{
 "cells": [
  {
   "cell_type": "markdown",
   "metadata": {},
   "source": [
    "# Evaluation of performance of the algorithm on Yale Database "
   ]
  },
  {
   "cell_type": "markdown",
   "metadata": {},
   "source": [
    "### Imports & Définition de fonctions utiles"
   ]
  },
  {
   "cell_type": "code",
   "execution_count": 1,
   "metadata": {
    "collapsed": false
   },
   "outputs": [],
   "source": [
    "import random\n",
    "random.seed(2017)\n",
    "import time\n",
    "import os, sys"
   ]
  },
  {
   "cell_type": "code",
   "execution_count": 2,
   "metadata": {
    "collapsed": false
   },
   "outputs": [],
   "source": [
    "from algorithme1 import *\n",
    "import algorithme1"
   ]
  },
  {
   "cell_type": "code",
   "execution_count": 3,
   "metadata": {
    "collapsed": true
   },
   "outputs": [],
   "source": [
    "def read_images(path, sz=None,sz0=168,sz1=192): \n",
    "    '''\n",
    "    Chargement des données\n",
    "    Si spécifiée, réduction de dimensions incluse\n",
    "    '''\n",
    "    c=0\n",
    "    X,y = [], []\n",
    "    for dirname , dirnames , filenames in os.walk(path):\n",
    "        for subdirname in dirnames:\n",
    "            subject_path = os.path.join(dirname , subdirname) \n",
    "            for filename in os.listdir(subject_path):\n",
    "                try:\n",
    "                    im = Image.open(os.path.join(subject_path , filename)) \n",
    "                    im = im.convert(\"L\")\n",
    "                    # resize to given size (if given) and check that it's the good size\n",
    "                    if ((im.size[0] == sz0) & (im.size[1]==sz1)):\n",
    "                        if (sz is not None):\n",
    "                            im = im.resize(sz, Image.NEAREST)     \n",
    "                        X.append(np.asarray(im, dtype=np.uint8)) \n",
    "                        y.append(c)\n",
    "                except IOError:\n",
    "                    pass\n",
    "                except:\n",
    "                    print \"Unexpected error:\", sys.exc_info()[0] \n",
    "                    raise\n",
    "            c = c+1\n",
    "            \n",
    "    print \"Images chargees !\"\n",
    "    return [X,y]"
   ]
  },
  {
   "cell_type": "markdown",
   "metadata": {},
   "source": [
    "### Chargement des images"
   ]
  },
  {
   "cell_type": "code",
   "execution_count": 4,
   "metadata": {
    "collapsed": false
   },
   "outputs": [
    {
     "name": "stdout",
     "output_type": "stream",
     "text": [
      "Images chargees !\n"
     ]
    }
   ],
   "source": [
    "path_images = 'data/CroppedYale/' # On détermine ici sur quelles images on veut s'entrainer\n",
    "\n",
    "# D'abord on charge les images originales (utilisées pour la visualisation et la reconstruction)\n",
    "\n",
    "X_original, y_original = read_images(path_images, sz=None)"
   ]
  },
  {
   "cell_type": "markdown",
   "metadata": {},
   "source": [
    "### Separation in training set and test set"
   ]
  },
  {
   "cell_type": "code",
   "execution_count": 5,
   "metadata": {
    "collapsed": false
   },
   "outputs": [],
   "source": [
    "Xtrain, Xtest = [], []\n",
    "ytrain, ytest = [], []\n",
    "indices_train, indices_test = [], []\n",
    "\n",
    "for i in range(len(X_original)):\n",
    "    if i%64==0:\n",
    "        # On compute les indices des éléments à placer dans le test, ils sont différents pour chaque image.\n",
    "        test1 = np.random.choice(28,5,replace=False)\n",
    "        test2 = 29 + np.random.choice(35,7,replace=False)\n",
    "    \n",
    "    # On crée X_test et X_train\n",
    "    if ((i%64 in test1) or (i%64 in test2)):\n",
    "        Xtest.append(X_original[i])\n",
    "        ytest.append(y_original[i])\n",
    "        indices_test.append(i)\n",
    "    else:\n",
    "        Xtrain.append(X_original[i])\n",
    "        ytrain.append(y_original[i])\n",
    "        indices_train.append(i)"
   ]
  },
  {
   "cell_type": "markdown",
   "metadata": {},
   "source": [
    "## Obtention du meilleur lambda"
   ]
  },
  {
   "cell_type": "markdown",
   "metadata": {},
   "source": [
    "Note : la méthode d'obtention n'est pas très rigoureuse mais il est içi relativement difficile de faire des train / test sets équilibrés sachant que certaines images sont vraiment trop noires, et qu'une cross validation à la main prendrait un peu de temps.\n",
    "\n",
    "On note également que l'implémentation pour l'occlusion et le bruitage n'est pas la bonne, il faut juste tester sans bruit ! Pour la bonne méthode d'occlusion et de bruitage voir le notebook *sparse representation implementation*"
   ]
  },
  {
   "cell_type": "code",
   "execution_count": 21,
   "metadata": {
    "collapsed": false
   },
   "outputs": [],
   "source": [
    "elem = 300\n",
    "X_test_new = [Xtest[elem]]"
   ]
  },
  {
   "cell_type": "code",
   "execution_count": 37,
   "metadata": {
    "collapsed": true
   },
   "outputs": [],
   "source": [
    "algorithme1 = reload(algorithme1)"
   ]
  },
  {
   "cell_type": "code",
   "execution_count": null,
   "metadata": {
    "collapsed": false
   },
   "outputs": [
    {
     "name": "stderr",
     "output_type": "stream",
     "text": [
      "/Users/maxwab/anaconda/lib/python2.7/site-packages/sklearn/linear_model/coordinate_descent.py:484: ConvergenceWarning: Objective did not converge. You might want to increase the number of iterations. Fitting data with very small alpha may cause precision problems.\n",
      "  ConvergenceWarning)\n",
      "/Users/maxwab/anaconda/lib/python2.7/site-packages/sklearn/linear_model/coordinate_descent.py:484: ConvergenceWarning: Objective did not converge. You might want to increase the number of iterations. Fitting data with very small alpha may cause precision problems.\n",
      "  ConvergenceWarning)\n",
      "/Users/maxwab/anaconda/lib/python2.7/site-packages/sklearn/linear_model/coordinate_descent.py:484: ConvergenceWarning: Objective did not converge. You might want to increase the number of iterations. Fitting data with very small alpha may cause precision problems.\n",
      "  ConvergenceWarning)\n",
      "/Users/maxwab/anaconda/lib/python2.7/site-packages/sklearn/linear_model/coordinate_descent.py:484: ConvergenceWarning: Objective did not converge. You might want to increase the number of iterations. Fitting data with very small alpha may cause precision problems.\n",
      "  ConvergenceWarning)\n",
      "/Users/maxwab/anaconda/lib/python2.7/site-packages/sklearn/linear_model/coordinate_descent.py:484: ConvergenceWarning: Objective did not converge. You might want to increase the number of iterations. Fitting data with very small alpha may cause precision problems.\n",
      "  ConvergenceWarning)\n",
      "/Users/maxwab/anaconda/lib/python2.7/site-packages/sklearn/linear_model/coordinate_descent.py:484: ConvergenceWarning: Objective did not converge. You might want to increase the number of iterations. Fitting data with very small alpha may cause precision problems.\n",
      "  ConvergenceWarning)\n",
      "/Users/maxwab/anaconda/lib/python2.7/site-packages/sklearn/linear_model/coordinate_descent.py:484: ConvergenceWarning: Objective did not converge. You might want to increase the number of iterations. Fitting data with very small alpha may cause precision problems.\n",
      "  ConvergenceWarning)\n",
      "/Users/maxwab/anaconda/lib/python2.7/site-packages/sklearn/linear_model/coordinate_descent.py:484: ConvergenceWarning: Objective did not converge. You might want to increase the number of iterations. Fitting data with very small alpha may cause precision problems.\n",
      "  ConvergenceWarning)\n",
      "/Users/maxwab/anaconda/lib/python2.7/site-packages/sklearn/linear_model/coordinate_descent.py:484: ConvergenceWarning: Objective did not converge. You might want to increase the number of iterations. Fitting data with very small alpha may cause precision problems.\n",
      "  ConvergenceWarning)\n",
      "/Users/maxwab/anaconda/lib/python2.7/site-packages/sklearn/linear_model/coordinate_descent.py:484: ConvergenceWarning: Objective did not converge. You might want to increase the number of iterations. Fitting data with very small alpha may cause precision problems.\n",
      "  ConvergenceWarning)\n",
      "/Users/maxwab/anaconda/lib/python2.7/site-packages/sklearn/linear_model/coordinate_descent.py:484: ConvergenceWarning: Objective did not converge. You might want to increase the number of iterations. Fitting data with very small alpha may cause precision problems.\n",
      "  ConvergenceWarning)\n",
      "/Users/maxwab/anaconda/lib/python2.7/site-packages/sklearn/linear_model/coordinate_descent.py:484: ConvergenceWarning: Objective did not converge. You might want to increase the number of iterations. Fitting data with very small alpha may cause precision problems.\n",
      "  ConvergenceWarning)\n",
      "/Users/maxwab/anaconda/lib/python2.7/site-packages/sklearn/linear_model/coordinate_descent.py:484: ConvergenceWarning: Objective did not converge. You might want to increase the number of iterations. Fitting data with very small alpha may cause precision problems.\n",
      "  ConvergenceWarning)\n",
      "/Users/maxwab/anaconda/lib/python2.7/site-packages/sklearn/linear_model/coordinate_descent.py:484: ConvergenceWarning: Objective did not converge. You might want to increase the number of iterations. Fitting data with very small alpha may cause precision problems.\n",
      "  ConvergenceWarning)\n",
      "/Users/maxwab/anaconda/lib/python2.7/site-packages/sklearn/linear_model/coordinate_descent.py:484: ConvergenceWarning: Objective did not converge. You might want to increase the number of iterations. Fitting data with very small alpha may cause precision problems.\n",
      "  ConvergenceWarning)\n",
      "/Users/maxwab/anaconda/lib/python2.7/site-packages/sklearn/linear_model/coordinate_descent.py:484: ConvergenceWarning: Objective did not converge. You might want to increase the number of iterations. Fitting data with very small alpha may cause precision problems.\n",
      "  ConvergenceWarning)\n"
     ]
    }
   ],
   "source": [
    "alpha_vec = [0.002]\n",
    "methods = [None]\n",
    "accuracy = np.zeros((len(methods),len(alpha_vec)))\n",
    "\n",
    "for i, alpha in enumerate(alpha_vec):\n",
    "    for j,m in enumerate(methods):\n",
    "        # Génération des résultats\n",
    "        L = algorithme1.SRC(Xtrain, Xtest, ytrain, type_feature_reduc=m, reduce_lines=96, reduce_columns=84, lambda_val=alpha, per_bruit=0.3, pos_occl=None)\n",
    "        \n",
    "        # Obtention de la précision\n",
    "        predictions = []\n",
    "        residus = []\n",
    "        sci = []\n",
    "        for a,b,c in L:\n",
    "            residus.append(a)\n",
    "            predictions.append(b)\n",
    "            sci.append(c)\n",
    "        predictions = np.asarray(predictions)\n",
    "        accuracy[j,i] = 100.0*np.sum((predictions == ytest))/len(Xtest)\n",
    "    print(\"lambda = \", alpha, \", fini\")\n",
    "        \n",
    "        "
   ]
  },
  {
   "cell_type": "code",
   "execution_count": null,
   "metadata": {
    "collapsed": false,
    "scrolled": true
   },
   "outputs": [],
   "source": [
    "accuracy"
   ]
  },
  {
   "cell_type": "code",
   "execution_count": 20,
   "metadata": {
    "collapsed": false
   },
   "outputs": [
    {
     "data": {
      "text/plain": [
       "array([1])"
      ]
     },
     "execution_count": 20,
     "metadata": {},
     "output_type": "execute_result"
    }
   ],
   "source": [
    "predictions"
   ]
  },
  {
   "cell_type": "code",
   "execution_count": 10,
   "metadata": {
    "collapsed": false
   },
   "outputs": [
    {
     "name": "stdout",
     "output_type": "stream",
     "text": [
      "2.41228070175\n"
     ]
    },
    {
     "data": {
      "image/png": "[encoded data removed]",
      "text/plain": [
       "<matplotlib.figure.Figure at 0x10d425e90>"
      ]
     },
     "metadata": {},
     "output_type": "display_data"
    },
    {
     "name": "stdout",
     "output_type": "stream",
     "text": [
      "11\n",
      "0\n"
     ]
    }
   ],
   "source": [
    "elem = 139\n",
    "cpt = 0\n",
    "for el in range(len(Xtest)):\n",
    "    if ytest[el] == np.argmin(residus[el]):\n",
    "        cpt = cpt+1\n",
    "cpt = 100.0*cpt/len(Xtest)\n",
    "\n",
    "print cpt\n",
    "\n",
    "plt.figure()\n",
    "plt.clf()\n",
    "plt.bar(range(residus[0].shape[0]),residus[elem])\n",
    "plt.show()\n",
    "print(ytest[elem])\n",
    "print np.argmin(residus[elem])"
   ]
  },
  {
   "cell_type": "code",
   "execution_count": 11,
   "metadata": {
    "collapsed": false
   },
   "outputs": [
    {
     "data": {
      "image/png": "[encoded data removed]",
      "text/plain": [
       "<matplotlib.figure.Figure at 0x10d47a090>"
      ]
     },
     "metadata": {},
     "output_type": "display_data"
    }
   ],
   "source": [
    "plt.figure()\n",
    "plt.clf()\n",
    "plt.hold(True)\n",
    "for j,m in enumerate(methods):\n",
    "    plt.plot(alpha_vec,accuracy[j,:],label=str(m))\n",
    "plt.legend(loc=7)\n",
    "plt.title('Comparaison des performances entre les methodes')\n",
    "plt.xlabel('Differentes valeurs de $\\lambda$')\n",
    "plt.ylabel('Precision')\n",
    "plt.ylim([80, 100])\n",
    "plt.show()\n"
   ]
  },
  {
   "cell_type": "code",
   "execution_count": 12,
   "metadata": {
    "collapsed": true
   },
   "outputs": [],
   "source": [
    "import pandas as pd"
   ]
  },
  {
   "cell_type": "code",
   "execution_count": 13,
   "metadata": {
    "collapsed": true
   },
   "outputs": [],
   "source": [
    "pd.DataFrame(data=predictions).to_csv('csv_saved/preds_all.csv')"
   ]
  },
  {
   "cell_type": "code",
   "execution_count": null,
   "metadata": {
    "collapsed": true
   },
   "outputs": [],
   "source": []
  }
 ],
 "metadata": {
  "anaconda-cloud": {},
  "kernelspec": {
   "display_name": "Python [conda root]",
   "language": "python",
   "name": "conda-root-py"
  },
  "language_info": {
   "codemirror_mode": {
    "name": "ipython",
    "version": 2
   },
   "file_extension": ".py",
   "mimetype": "text/x-python",
   "name": "python",
   "nbconvert_exporter": "python",
   "pygments_lexer": "ipython2",
   "version": "2.7.12"
  }
 },
 "nbformat": 4,
 "nbformat_minor": 1
}
