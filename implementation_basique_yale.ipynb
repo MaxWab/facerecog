{
 "cells": [
  {
   "cell_type": "markdown",
   "metadata": {
    "collapsed": true
   },
   "source": [
    "# Introduction "
   ]
  },
  {
   "cell_type": "markdown",
   "metadata": {},
   "source": [
    "Dans ce fichier nous allons mettre en place une implémentation basique de l'algorithme proposé dans l'article à étudier."
   ]
  },
  {
   "cell_type": "markdown",
   "metadata": {},
   "source": [
    "Nous allons pour l'instant étudier le dataset Extended Yale B.\n",
    "\n",
    "Les données sont présentes dans le dossier suivant : data/CroppedYale/"
   ]
  },
  {
   "cell_type": "markdown",
   "metadata": {},
   "source": [
    "Activer le dev mode pour recalculer les meilleurs paramètres (best lambda par exemple). Attention ! Il y a des étapes de recherche de paramètre optimal type gridsearch qu'il ne faut parfois pas relancer car elles sont trop longues."
   ]
  },
  {
   "cell_type": "code",
   "execution_count": 1,
   "metadata": {
    "collapsed": true
   },
   "outputs": [],
   "source": [
    "dev_mode = 0"
   ]
  },
  {
   "cell_type": "markdown",
   "metadata": {},
   "source": [
    "# Utilisation du notebook "
   ]
  },
  {
   "cell_type": "markdown",
   "metadata": {},
   "source": [
    "Ce notebook reprend notre implémentation de l'article. Afin de pouvoir générer les résultats (et de changer la fenêtre d'étude) il est possible de change certaines variables. Nous les indiquerons auparavant."
   ]
  },
  {
   "cell_type": "markdown",
   "metadata": {},
   "source": [
    "### TODO"
   ]
  },
  {
   "cell_type": "markdown",
   "metadata": {},
   "source": [
    "* Pouvoir charger des images automatiquement à partir de l'id\n",
    "* Reconstruction d'une image à partir des coefficients et comparaison à l'image originale."
   ]
  },
  {
   "cell_type": "markdown",
   "metadata": {},
   "source": [
    "# Imports "
   ]
  },
  {
   "cell_type": "code",
   "execution_count": 2,
   "metadata": {
    "collapsed": true
   },
   "outputs": [],
   "source": [
    "%matplotlib inline"
   ]
  },
  {
   "cell_type": "code",
   "execution_count": 3,
   "metadata": {
    "collapsed": false
   },
   "outputs": [],
   "source": [
    "import numpy as np\n",
    "from PIL import Image\n",
    "import os, sys\n",
    "import matplotlib.pyplot as plt\n",
    "from sklearn.preprocessing import normalize\n",
    "import time\n",
    "import random"
   ]
  },
  {
   "cell_type": "code",
   "execution_count": 4,
   "metadata": {
    "collapsed": true
   },
   "outputs": [],
   "source": [
    "random.seed(2017) # For reproductibility"
   ]
  },
  {
   "cell_type": "markdown",
   "metadata": {},
   "source": [
    "# Définition de fonctions utiles"
   ]
  },
  {
   "cell_type": "markdown",
   "metadata": {},
   "source": [
    "Définition de la fonction delta_i, indicatrice de la classe i."
   ]
  },
  {
   "cell_type": "code",
   "execution_count": 5,
   "metadata": {
    "collapsed": false
   },
   "outputs": [],
   "source": [
    "def delta(x,i,classs):\n",
    "    '''\n",
    "    fonction indicatrice de la classe i\n",
    "    '''\n",
    "    n,m = len(x),len(classs)\n",
    "    \n",
    "    if (n != m):\n",
    "        print 'vectors of differents sizes, cannot operate delta'\n",
    "        \n",
    "    tmp = i*np.ones(n)-classs\n",
    "\n",
    "    for k in range(n):\n",
    "        if tmp[k]==0:\n",
    "            tmp[k]=1\n",
    "        else:\n",
    "            tmp[k]=0 \n",
    "            \n",
    "    return tmp*x"
   ]
  },
  {
   "cell_type": "markdown",
   "metadata": {},
   "source": [
    "Définition de la fonction de résidu qui renvoie la classe minimisant l'erreur de reconstruction suivant la norme L2."
   ]
  },
  {
   "cell_type": "code",
   "execution_count": 6,
   "metadata": {
    "collapsed": false
   },
   "outputs": [],
   "source": [
    "def residu(y,A,x,class_x):\n",
    "    '''\n",
    "    renvoie les residus pour chaque classe.\n",
    "    '''\n",
    "    k = np.max(class_x)+1\n",
    "    r = np.zeros(k)\n",
    "    \n",
    "    for i in range(0,k):\n",
    "        r[i] = np.linalg.norm(y - np.dot(A,delta(x,i,class_x)))\n",
    "        \n",
    "    return r"
   ]
  },
  {
   "cell_type": "markdown",
   "metadata": {},
   "source": [
    "Définition de la fonction retournant l'indice de concentration (_Sparsity Concentration Index_)"
   ]
  },
  {
   "cell_type": "code",
   "execution_count": 7,
   "metadata": {
    "collapsed": false
   },
   "outputs": [],
   "source": [
    "def SCI(x,classs):\n",
    "    '''\n",
    "    @input\n",
    "      - classs: classe de chaque training element.\n",
    "      - x     : sparse coefficients\n",
    "    '''\n",
    "    \n",
    "    k = len(set(classs)) # Nombre de classes différentes\n",
    "    \n",
    "    # Puis on retourne la valeur du SCI\n",
    "    return (k*(1/np.linalg.norm(x,ord=1))*np.max([np.linalg.norm(delta(x,i,classs),ord=1) for i in range(k)]) - 1)/(k-1)\n",
    "    "
   ]
  },
  {
   "cell_type": "markdown",
   "metadata": {},
   "source": [
    "**Utilitaire** : trouver la classe d'un élément du test set pour le Yale Database"
   ]
  },
  {
   "cell_type": "code",
   "execution_count": 8,
   "metadata": {
    "collapsed": true
   },
   "outputs": [],
   "source": [
    "def find_class(i):\n",
    "    return int(i)/12"
   ]
  },
  {
   "cell_type": "markdown",
   "metadata": {},
   "source": [
    "**Utilitaire** : fonction pour charger les fichiers"
   ]
  },
  {
   "cell_type": "code",
   "execution_count": 9,
   "metadata": {
    "collapsed": false
   },
   "outputs": [],
   "source": [
    "def read_images(path, sz=None,sz0=168,sz1=192): \n",
    "    '''\n",
    "    Chargement des données\n",
    "    Si spécifiée, réduction de dimensions incluse\n",
    "    '''\n",
    "    c=0\n",
    "    X,y = [], []\n",
    "    for dirname , dirnames , filenames in os.walk(path):\n",
    "        for subdirname in dirnames:\n",
    "            subject_path = os.path.join(dirname , subdirname) \n",
    "            for filename in os.listdir(subject_path):\n",
    "                try:\n",
    "                    im = Image.open(os.path.join(subject_path , filename)) \n",
    "                    im = im.convert(\"L\")\n",
    "                    # resize to given size (if given) and check that it's the good size\n",
    "                    if ((im.size[0] == sz0) & (im.size[1]==sz1)):\n",
    "                        if (sz is not None):\n",
    "                            im = im.resize(sz, Image.NEAREST)     \n",
    "                        X.append(np.asarray(im, dtype=np.uint8)) \n",
    "                        y.append(c)\n",
    "                except IOError:\n",
    "                    pass\n",
    "                except:\n",
    "                    print \"Unexpected error:\", sys.exc_info()[0] \n",
    "                    raise\n",
    "            c = c+1\n",
    "            \n",
    "    print \"Images chargees !\"\n",
    "    return [X,y]"
   ]
  },
  {
   "cell_type": "code",
   "execution_count": 10,
   "metadata": {
    "collapsed": true
   },
   "outputs": [],
   "source": [
    "def noise_image(image_input, per=0.5):\n",
    "    '''\n",
    "    Ajoute du bruit aléatoire à une image.\n",
    "    @params:\n",
    "        per : pourcentage de pixels à corrompre\n",
    "    '''\n",
    "    sz0 = image_input.shape[0]\n",
    "    sz1 = image_input.shape[1]\n",
    "    \n",
    "    # Création du masque\n",
    "    nb_pix_to_noise = int(np.floor(per*sz0*sz1))\n",
    "    print nb_pix_to_noise\n",
    "    \n",
    "    mask = np.ones((sz0*sz1,1))\n",
    "    ids = np.random.permutation(sz0*sz1)[0:nb_pix_to_noise]\n",
    "    mask[ids] = 0\n",
    "    mask = np.reshape(mask,(sz0,sz1))\n",
    "    \n",
    "    # Matrice de pixels aléatoires (intensité entre 0 et 255)\n",
    "    rand_pix = np.random.randint(0,256,size=(sz0,sz1))\n",
    "    \n",
    "    # On retourne la matrice initiale où l'on a changé les pixels indiqués par des pixels aléatoires\n",
    "    return np.multiply(mask,image_input) + np.multiply(1-mask,rand_pix)\n",
    "    \n",
    "    "
   ]
  },
  {
   "cell_type": "markdown",
   "metadata": {},
   "source": [
    "# Définition des paramètres de l'étude"
   ]
  },
  {
   "cell_type": "markdown",
   "metadata": {},
   "source": [
    "Modes de réduction de dimension :\n",
    "\n",
    "* reduced_fs_dimension : réduction de dimension classique\n",
    "* fisherfaces\n",
    "* eigenfaces\n",
    "* randomfaces"
   ]
  },
  {
   "cell_type": "code",
   "execution_count": 11,
   "metadata": {
    "collapsed": false,
    "scrolled": true
   },
   "outputs": [
    {
     "name": "stdout",
     "output_type": "stream",
     "text": [
      "('R\\xc3\\xa9duction de features choisie : ', 'randomfaces')\n"
     ]
    }
   ],
   "source": [
    "mode_reduc_features = 'randomfaces'\n",
    "size_features = (12,10) # Egalement utilisé plus bas !\n",
    "path_images = 'data/CroppedYale/' # On détermine ici sur quelles images on veut s'entrainer\n",
    "\n",
    "n_components = size_features[0]*size_features[1]\n",
    "\n",
    "print(\"Réduction de features choisie : \", mode_reduc_features)"
   ]
  },
  {
   "cell_type": "markdown",
   "metadata": {},
   "source": [
    "# Chargement des images "
   ]
  },
  {
   "cell_type": "markdown",
   "metadata": {},
   "source": [
    "** Chargement des images **"
   ]
  },
  {
   "cell_type": "code",
   "execution_count": 12,
   "metadata": {
    "collapsed": false
   },
   "outputs": [
    {
     "name": "stdout",
     "output_type": "stream",
     "text": [
      "Images chargees !\n",
      "Images chargees !\n"
     ]
    }
   ],
   "source": [
    "# D'abord on charge les images originales (utilisées pour la visualisation et la reconstruction)\n",
    "\n",
    "X_original, y_original = read_images(path_images, sz=None)\n",
    "\n",
    "# Ensuite on charge les images sur lesquelles on va travailler tout au long du notebook\n",
    "\n",
    "if ((mode_reduc_features == 'randomfaces') & (size_features != None)):\n",
    "    X, y = read_images(path_images, sz=size_features)\n",
    "elif ((mode_reduc_features != 'reduced_fs_dimension') & (mode_reduc_features != None)):\n",
    "    X, y = read_images(path_images, sz=None)\n",
    "else :\n",
    "    X, y = read_images(path_images, sz=(12,10))"
   ]
  },
  {
   "cell_type": "markdown",
   "metadata": {},
   "source": [
    "Vérification qu'on a bien chargé les données des individus"
   ]
  },
  {
   "cell_type": "code",
   "execution_count": 13,
   "metadata": {
    "collapsed": false
   },
   "outputs": [
    {
     "name": "stdout",
     "output_type": "stream",
     "text": [
      "Nombre d'éléments chargés  2432\n"
     ]
    }
   ],
   "source": [
    "print \"Nombre d'éléments chargés \",len(X)"
   ]
  },
  {
   "cell_type": "markdown",
   "metadata": {},
   "source": [
    "Alright : on a bien chargé 64 images qui ont été fournies, pour chacune des 38 individus (plusieurs illuminations)"
   ]
  },
  {
   "cell_type": "markdown",
   "metadata": {},
   "source": [
    "## Séparation du dataset en train et test "
   ]
  },
  {
   "cell_type": "markdown",
   "metadata": {},
   "source": [
    "A chaque personne sont associées 64 images stockées dans _X_new_ :\n",
    "\n",
    "* 29 images \"négatives\" (ex : yaleB01_P00A**-**005E-10)\n",
    "* 35 images \"positives\" (ex : yaleB01_P00A**+**050E-40)\n",
    "\n",
    "_Note :_ Une bonne partie des images est quasiment illisible (très mauvaise luminosité)\n",
    "\n",
    "Afin d'avoir un test set et un train set à peu près homogènes, on va prendre 12 images de test pour 52 images de train (~19% dans le test), soit :\n",
    "\n",
    "* 5 images \"négatives\"\n",
    "* 7 images \"positives\""
   ]
  },
  {
   "cell_type": "code",
   "execution_count": 14,
   "metadata": {
    "collapsed": true
   },
   "outputs": [],
   "source": [
    "X_train, X_test = [], []\n",
    "ytrain, ytest = [], []\n",
    "indices_train, indices_test = [], []\n",
    "\n",
    "for i in range(len(X)):\n",
    "    if i%64==0:\n",
    "        # On compute les indices des éléments à placer dans le test, ils sont différents pour chaque image.\n",
    "        test1 = np.random.choice(28,5,replace=False)\n",
    "        test2 = 29 + np.random.choice(35,7,replace=False)\n",
    "    \n",
    "    # On crée X_test et X_train\n",
    "    if ((i%64 in test1) or (i%64 in test2)):\n",
    "        X_test.append(X[i])\n",
    "        ytest.append(y[i])\n",
    "        indices_test.append(i)\n",
    "    else:\n",
    "        X_train.append(X[i])\n",
    "        ytrain.append(y[i])\n",
    "        indices_train.append(i)"
   ]
  },
  {
   "cell_type": "markdown",
   "metadata": {
    "collapsed": true
   },
   "source": [
    "## Manipulation des matrices"
   ]
  },
  {
   "cell_type": "markdown",
   "metadata": {},
   "source": [
    "On déroule chaque image en un vecteur puis on les concatène."
   ]
  },
  {
   "cell_type": "code",
   "execution_count": 15,
   "metadata": {
    "collapsed": false
   },
   "outputs": [],
   "source": [
    "X_toconcat_train = [np.reshape(e,(X_train[0].shape[0]*X_train[0].shape[1],1)) for e in X_train]\n",
    "X_toconcat_test = [np.reshape(e,(X_test[0].shape[0]*X_test[0].shape[1],1)) for e in X_test]\n",
    "\n",
    "# Puis concaténation pour avoir une matrice unique\n",
    "Xtrain = np.concatenate(X_toconcat_train,axis=1) # Liste des samples du train, concaténés en colonne.\n",
    "Xtest = np.concatenate(X_toconcat_test,axis=1) # Liste des samples du test, concaténés en colonne."
   ]
  },
  {
   "cell_type": "markdown",
   "metadata": {},
   "source": [
    "## Réduction de dimension"
   ]
  },
  {
   "cell_type": "markdown",
   "metadata": {},
   "source": [
    "La réduction de dimensions peut déjà être inclue dans le chargement des images si l'on fait juste de la réduction de dimension basique. Mais on peut également choisir une méthode plus évoluée !\n",
    "\n",
    "_ Ne pas oublier de renseigner la variable **size_features** plus haut _"
   ]
  },
  {
   "cell_type": "markdown",
   "metadata": {},
   "source": [
    "Pour observer le détail des fonctions, voir le fichier **features_reduction.py**"
   ]
  },
  {
   "cell_type": "code",
   "execution_count": 16,
   "metadata": {
    "collapsed": true
   },
   "outputs": [],
   "source": [
    "from features_reduction import *"
   ]
  },
  {
   "cell_type": "markdown",
   "metadata": {},
   "source": [
    "#### Normalisation"
   ]
  },
  {
   "cell_type": "code",
   "execution_count": 17,
   "metadata": {
    "collapsed": false
   },
   "outputs": [
    {
     "name": "stderr",
     "output_type": "stream",
     "text": [
      "/Users/maxwab/anaconda/lib/python2.7/site-packages/sklearn/utils/validation.py:429: DataConversionWarning: Data with input dtype uint8 was converted to float64 by StandardScaler.\n",
      "  warnings.warn(msg, _DataConversionWarning)\n"
     ]
    }
   ],
   "source": [
    "from sklearn.preprocessing import StandardScaler\n",
    "ss = StandardScaler()\n",
    "Xtrain = ss.fit_transform(Xtrain)\n",
    "Xtest = ss.fit_transform(Xtest)"
   ]
  },
  {
   "cell_type": "code",
   "execution_count": 18,
   "metadata": {
    "collapsed": false,
    "scrolled": true
   },
   "outputs": [
    {
     "name": "stdout",
     "output_type": "stream",
     "text": [
      "Random projection done in 0.008s\n"
     ]
    }
   ],
   "source": [
    "if (mode_reduc_features == 'eigenfaces'):\n",
    "    Xtrain, Xtest = eigenfaces(Xtrain.T,Xtest.T,n_components=n_components)\n",
    "    Xtrain, Xtest = Xtrain.T, Xtest.T\n",
    "elif (mode_reduc_features == 'fisherfaces'):\n",
    "    Xtrain, Xtest = fisherfaces(Xtrain.T,ytrain,Xtest.T,n_components=n_components)\n",
    "    Xtrain, Xtest = Xtrain.T, Xtest.T\n",
    "elif (mode_reduc_features == 'randomfaces'):\n",
    "    Xtrain, Xtest = randomfaces(Xtrain.T, Xtest.T, n_components=n_components)\n",
    "    Xtrain, Xtest = Xtrain.T, Xtest.T\n",
    "    \n",
    "# Note : on n'oublie pas de transposer pour pouvoir utiliser les fonctions de features_reduction"
   ]
  },
  {
   "cell_type": "code",
   "execution_count": 19,
   "metadata": {
    "collapsed": false
   },
   "outputs": [
    {
     "name": "stdout",
     "output_type": "stream",
     "text": [
      "('Taille du nouveau dataset', (120, 456))\n"
     ]
    }
   ],
   "source": [
    "print('Taille du nouveau dataset',Xtest.shape)"
   ]
  },
  {
   "cell_type": "markdown",
   "metadata": {},
   "source": [
    "On a bien la bonne taille !"
   ]
  },
  {
   "cell_type": "markdown",
   "metadata": {},
   "source": [
    "# Implémentation de l'algorithme 1 "
   ]
  },
  {
   "cell_type": "code",
   "execution_count": 20,
   "metadata": {
    "collapsed": false
   },
   "outputs": [],
   "source": [
    "from sklearn.linear_model import Lasso"
   ]
  },
  {
   "cell_type": "markdown",
   "metadata": {},
   "source": [
    "On voit dans la littérature que cela revient à traiter le problème Lasso."
   ]
  },
  {
   "cell_type": "markdown",
   "metadata": {
    "collapsed": true
   },
   "source": [
    "D'abord on crée un vecteur d'$\\alpha_i$ à tester avec Lasso.\n",
    "\n",
    "Puisqu'on utilise la fonction Lasso il est nécessaire d'adapter nos $\\alpha_i$ à la dimension de $y$."
   ]
  },
  {
   "cell_type": "code",
   "execution_count": 21,
   "metadata": {
    "collapsed": false
   },
   "outputs": [],
   "source": [
    "alpha_vec = np.logspace(2,4,20)\n",
    "alpha_vec = alpha_vec/(Xtest.shape[0])"
   ]
  },
  {
   "cell_type": "markdown",
   "metadata": {},
   "source": [
    "Puis on utilise Lasso pour trouver la solution à notre problème."
   ]
  },
  {
   "cell_type": "code",
   "execution_count": 22,
   "metadata": {
    "collapsed": false
   },
   "outputs": [],
   "source": [
    "#for i, alpha in enumerate(alpha_vec):\n",
    "\n",
    "testval = 250 # Id : élément du test set à évaluer grâce à notre algorithme.\n",
    "\n",
    "clf = Lasso(alpha=0.02) #on prend l'alpha courant\n",
    "\n",
    "# Standard : on choisit y parmi l'ensemble de test\n",
    "y = Xtest[:,testval]\n",
    "\n",
    "clf.fit(Xtrain,y)\n",
    "x = clf.coef_"
   ]
  },
  {
   "cell_type": "code",
   "execution_count": 23,
   "metadata": {
    "collapsed": false
   },
   "outputs": [
    {
     "name": "stdout",
     "output_type": "stream",
     "text": [
      "[[ 0.88647763  1.11568178  1.45376176 ...,  0.54018168  0.29339825\n",
      "  -0.07664019]\n",
      " [-0.31887867  0.01598512  0.39657157 ...,  0.60174737  1.95200795\n",
      "   1.28324053]\n",
      " [-1.47940792 -0.05654913  1.07700982 ...,  0.98411666  0.26591007\n",
      "   1.13243173]\n",
      " ..., \n",
      " [-2.51917419 -2.13809056 -1.77883255 ...,  0.58170679  0.82584747\n",
      "   1.86137789]\n",
      " [-0.59537221 -0.24438772  0.12380851 ..., -0.86967262 -1.39619397\n",
      "  -1.01549168]\n",
      " [ 0.64256432  1.07728409  1.49792764 ...,  0.39230317  0.99698318\n",
      "  -0.17293077]]\n"
     ]
    }
   ],
   "source": [
    "print Xtrain"
   ]
  },
  {
   "cell_type": "code",
   "execution_count": 24,
   "metadata": {
    "collapsed": false
   },
   "outputs": [
    {
     "name": "stdout",
     "output_type": "stream",
     "text": [
      "[ 0.45308058 -0.74090233 -1.78350526  0.02073983  1.49148611  0.99622316\n",
      "  0.023444    1.53693456  0.21254518 -0.03567928 -0.49053645 -0.09937777\n",
      "  0.42118619  1.6514158  -0.2510935   0.8475314   0.96054659 -1.66208124\n",
      "  0.98895242 -1.10559502  0.33232165  2.37471068 -1.27389616 -0.28751411\n",
      " -1.03706679  0.92556425  0.00747754 -0.15354703 -1.2593008  -0.61875718\n",
      "  0.31312505  0.32184425 -0.12791898  0.28128437  0.29633879 -0.19973489\n",
      " -1.32652525  1.50436428  0.61810361 -0.51392789  0.39891442 -0.42376906\n",
      "  0.7792489  -1.11608159 -0.51575849  0.34521316  0.08268512 -0.83473404\n",
      "  1.36975513  1.37178258  0.3745768  -1.89809954  0.45282639  1.13199108\n",
      " -0.394308    0.97962125  0.67751314 -0.05207855  0.60648581  0.2316126\n",
      " -0.51860912  0.97143173 -1.66170386  0.19728529 -1.93026887  0.21100742\n",
      "  0.85685356 -0.03793578 -0.34893686 -0.72098422 -3.25940687 -0.17864959\n",
      "  0.69893704 -1.51522695 -0.34398207  0.56967833  1.69669556 -2.35476994\n",
      " -1.46970024  0.27282803  0.05400629 -1.51441773 -0.77704629 -0.63402979\n",
      "  0.8462656  -1.01966697  0.89886112  1.52080902  1.54396686 -0.14260923\n",
      " -1.69217091  1.03461826 -0.51155425 -0.61557592 -1.46360941  0.41573111\n",
      "  1.82542164  1.32309145 -1.43787351 -0.31906393 -0.56414405  0.03324464\n",
      "  0.57551142 -0.49678555 -0.09983254 -2.00175403  0.59333386  0.01220387\n",
      "  0.01554585 -0.8107235  -0.84433027 -1.33669725  0.59654329 -0.43987434\n",
      "  0.28190252  0.47587302 -0.85566765 -2.16047636  0.21810949  0.2870372 ]\n"
     ]
    }
   ],
   "source": [
    "print Xtest[:,0]"
   ]
  },
  {
   "cell_type": "markdown",
   "metadata": {},
   "source": [
    "On peut également choisir un y bruité"
   ]
  },
  {
   "cell_type": "code",
   "execution_count": null,
   "metadata": {
    "collapsed": true
   },
   "outputs": [],
   "source": []
  },
  {
   "cell_type": "markdown",
   "metadata": {},
   "source": [
    "** Affichage des résultats **"
   ]
  },
  {
   "cell_type": "code",
   "execution_count": 25,
   "metadata": {
    "collapsed": false
   },
   "outputs": [],
   "source": [
    "pred_class = np.argmin(residu(Xtest[:,testval],Xtrain,x,ytrain))"
   ]
  },
  {
   "cell_type": "code",
   "execution_count": 26,
   "metadata": {
    "collapsed": false
   },
   "outputs": [
    {
     "name": "stdout",
     "output_type": "stream",
     "text": [
      "Classe réelle:  20\n",
      "Classe prédite:  20\n",
      "Rejection:  0.674423062058\n"
     ]
    }
   ],
   "source": [
    "print \"Classe réelle: \", ytest[testval]\n",
    "print \"Classe prédite: \", pred_class\n",
    "print \"Rejection: \", SCI(x,ytrain)"
   ]
  },
  {
   "cell_type": "code",
   "execution_count": 27,
   "metadata": {
    "collapsed": false
   },
   "outputs": [
    {
     "data": {
      "text/plain": [
       "<matplotlib.text.Text at 0x11778a3d0>"
      ]
     },
     "execution_count": 27,
     "metadata": {},
     "output_type": "execute_result"
    },
    {
     "data": {
      "image/png": "[encoded data removed]",
      "text/plain": [
       "<matplotlib.figure.Figure at 0x116748690>"
      ]
     },
     "metadata": {},
     "output_type": "display_data"
    }
   ],
   "source": [
    "plt.figure()\n",
    "plt.stem(x)\n",
    "plt.title('Coefficients du vecteur x, classe reelle: ' + str(ytest[testval]))"
   ]
  },
  {
   "cell_type": "markdown",
   "metadata": {},
   "source": [
    "Avantage : meilleure interprétabilité des résultats : on sait où il y a des erreurs et pourquoi il y a des erreurs."
   ]
  },
  {
   "cell_type": "markdown",
   "metadata": {},
   "source": [
    "On s'intéresse également aux résidus"
   ]
  },
  {
   "cell_type": "code",
   "execution_count": 28,
   "metadata": {
    "collapsed": false
   },
   "outputs": [
    {
     "data": {
      "text/plain": [
       "<matplotlib.text.Text at 0x11b779b90>"
      ]
     },
     "execution_count": 28,
     "metadata": {},
     "output_type": "execute_result"
    },
    {
     "data": {
      "image/png": "[encoded data removed]",
      "text/plain": [
       "<matplotlib.figure.Figure at 0x116748410>"
      ]
     },
     "metadata": {},
     "output_type": "display_data"
    }
   ],
   "source": [
    "plt.figure()\n",
    "plt.clf()\n",
    "plt.bar(range(38),residu(Xtest[:,testval],Xtrain,x,ytrain))\n",
    "plt.title('Coeff rejection ' + str(np.round(SCI(x,ytrain),2)))"
   ]
  },
  {
   "cell_type": "markdown",
   "metadata": {
    "collapsed": true
   },
   "source": [
    "### Reconstruction de l'image"
   ]
  },
  {
   "cell_type": "markdown",
   "metadata": {},
   "source": [
    "On récupère les images originales et les coefficients des images sélectionnées dans l'affichage sparse puis on superpose ces images et on affiche l'image recomposée. On la compare à l'image de base."
   ]
  },
  {
   "cell_type": "markdown",
   "metadata": {},
   "source": [
    "** Manipulation des images originales **"
   ]
  },
  {
   "cell_type": "code",
   "execution_count": 29,
   "metadata": {
    "collapsed": false
   },
   "outputs": [],
   "source": [
    "i_original = indices_test[testval] #L'indice de la photo dans le dataset de départ non séparé\n",
    "\n",
    "try:\n",
    "    X_toconcat_original = [np.reshape(e,(X_original[0].shape[0]*X_original[0].shape[1],1)) for i,e in enumerate(X_original)]\n",
    "except:\n",
    "    print e.shape\n",
    "    plt.imshow(X_original[i], cmap='gray')\n",
    "\n",
    "# Puis concaténation pour avoir une matrice unique\n",
    "Xoriginal = np.concatenate(X_toconcat_original,axis=1) # Liste des samples du train, concaténés en colonne."
   ]
  },
  {
   "cell_type": "markdown",
   "metadata": {},
   "source": [
    "** Calcul de l'erreur sur l'image **"
   ]
  },
  {
   "cell_type": "code",
   "execution_count": 30,
   "metadata": {
    "collapsed": false
   },
   "outputs": [],
   "source": [
    "erreur_recomposition = np.reshape(np.dot(Xoriginal[:,indices_train],x),(X_original[i_original].shape[0],X_original[i_original].shape[1]))    "
   ]
  },
  {
   "cell_type": "markdown",
   "metadata": {},
   "source": [
    "** Affichage de l'image recomposée en utilisant juste classe prédite **"
   ]
  },
  {
   "cell_type": "code",
   "execution_count": 31,
   "metadata": {
    "collapsed": false
   },
   "outputs": [],
   "source": [
    "# On recompose l'image en utilisant seulement les composantes du vecteur x liées à la classe prédite.\n",
    "face_recomposee = np.reshape(np.dot(Xoriginal[:,indices_train],delta(x,pred_class,ytrain)),(X_original[i_original].shape[0],X_original[i_original].shape[1]))"
   ]
  },
  {
   "cell_type": "code",
   "execution_count": 50,
   "metadata": {
    "collapsed": false
   },
   "outputs": [
    {
     "name": "stdout",
     "output_type": "stream",
     "text": [
      "2432\n"
     ]
    }
   ],
   "source": [
    "print Xtrain.shape[1] + Xtest.shape[1]"
   ]
  },
  {
   "cell_type": "code",
   "execution_count": 32,
   "metadata": {
    "collapsed": false,
    "scrolled": true
   },
   "outputs": [
    {
     "data": {
      "text/plain": [
       "<matplotlib.text.Text at 0x1241d6c50>"
      ]
     },
     "execution_count": 32,
     "metadata": {},
     "output_type": "execute_result"
    },
    {
     "data": {
      "image/png": "[encoded data removed]",
      "text/plain": [
       "<matplotlib.figure.Figure at 0x11b7e0d90>"
      ]
     },
     "metadata": {},
     "output_type": "display_data"
    }
   ],
   "source": [
    "plt.figure(figsize=(10,12))\n",
    "plt.clf()\n",
    "plt.subplot(1,3,1)\n",
    "plt.imshow(X_original[i_original], cmap='gray')\n",
    "plt.title('Image originale')\n",
    "plt.subplot(1,3,2)\n",
    "plt.imshow(face_recomposee, cmap='gray')\n",
    "plt.title('Image recomposee')\n",
    "plt.subplot(1,3,3)\n",
    "plt.imshow(erreur_recomposition)\n",
    "plt.title('Erreur de recomposition')"
   ]
  },
  {
   "cell_type": "markdown",
   "metadata": {},
   "source": [
    "On remarque que dans le training set de départ, il y a beaucoup d'images pour lesquelles les conditions lumineuses sont vraiment mauvaises (l'image 318 du test set avec random.seed(2017) est par exemple une image toute noire). On comprend donc qu'on ne puisse pas reconstruire ces images, et on le voit avec "
   ]
  },
  {
   "cell_type": "code",
   "execution_count": null,
   "metadata": {
    "collapsed": true
   },
   "outputs": [],
   "source": []
  },
  {
   "cell_type": "markdown",
   "metadata": {},
   "source": [
    "### Identification du meilleur lambda pour la régularisation, performance sans rejection"
   ]
  },
  {
   "cell_type": "markdown",
   "metadata": {},
   "source": [
    "On va regarder la précision de notre algorithme pour différents lambda.\n",
    "\n",
    "La métrique sera le _pourcentage de bonne classification_."
   ]
  },
  {
   "cell_type": "code",
   "execution_count": 33,
   "metadata": {
    "collapsed": false
   },
   "outputs": [],
   "source": [
    "if (dev_mode == 1):\n",
    "\n",
    "    # Rappel : \n",
    "    # * y : Elément à tester (est une colonne de Xtest)\n",
    "    # * Xtrain : Matrice A des exemples d'entrainement\n",
    "    # * x : coefficients issus de la minimisation LASSO\n",
    "    # * ytrain : classe des exemples d'entrainement\n",
    "\n",
    "    preds = np.zeros((len(alpha_vec),Xtest.shape[1]))\n",
    "    rejections = np.zeros((len(alpha_vec),Xtest.shape[1]))\n",
    "\n",
    "    for i, alpha in enumerate(alpha_vec):\n",
    "        t = time.time()\n",
    "        print \"Coefficient de régularisation: \", alpha\n",
    "        print \"Boucle #\",i+1,\"/\",len(alpha_vec)\n",
    "        clf = Lasso(alpha=alpha) # on crée un modèle avec l'alpha courant\n",
    "        for j in range(Xtest.shape[1]):\n",
    "            # Pour chaque exemple à tester on génère les coefficients et on prend la meilleure prédiction\n",
    "            y = Xtest[:,j]\n",
    "            clf.fit(Xtrain,y)\n",
    "            x = clf.coef_\n",
    "\n",
    "            # On fait la prédiction\n",
    "            preds[i,j] = np.argmin(residu(y,Xtrain,x,ytrain)) \n",
    "            rejections[i,j] = SCI(x,ytrain)\n",
    "\n",
    "            # Affichage d'un message pour suivre l'avancement de l'algorithme\n",
    "\n",
    "            if (j%50 == 0):\n",
    "                print j, \"exemples traités en\",time.time() - t ,\"s\"\n",
    "\n",
    "        print \"Temps écoulé pour la boucle : \", time.time() - t"
   ]
  },
  {
   "cell_type": "markdown",
   "metadata": {},
   "source": [
    "On remarque que l'entrainement est spécialement long puisqu'on doit réentrainer un classifieur pour chaque exemple !\n",
    "\n",
    "Mais c'est parallélisable"
   ]
  },
  {
   "cell_type": "markdown",
   "metadata": {},
   "source": [
    "On calcule maintenant la précision pour chaque lambda"
   ]
  },
  {
   "cell_type": "code",
   "execution_count": 34,
   "metadata": {
    "collapsed": false
   },
   "outputs": [],
   "source": [
    "if (dev_mode == 1):\n",
    "\n",
    "    # Définition des classes réelles\n",
    "    real_classes = np.reshape(ytest*len(alpha_vec),(len(alpha_vec),len(ytest)))\n",
    "\n",
    "    # Evaluation de la précision\n",
    "\n",
    "    precision = 100.0*np.sum(preds == real_classes,axis=1)/len(ytest)"
   ]
  },
  {
   "cell_type": "markdown",
   "metadata": {},
   "source": [
    "**Affichage des résultats**"
   ]
  },
  {
   "cell_type": "code",
   "execution_count": 35,
   "metadata": {
    "collapsed": false
   },
   "outputs": [],
   "source": [
    "if (dev_mode == 1):\n",
    "\n",
    "    plt.figure()\n",
    "    plt.clf()\n",
    "    plt.plot(alpha_vec,precision)\n",
    "    plt.title('Evolution de la precision en fonction de $\\lambda$')\n",
    "    plt.axis([0, 20, 85,95])"
   ]
  },
  {
   "cell_type": "markdown",
   "metadata": {},
   "source": [
    "Détermination du coefficient optimal de régularisation"
   ]
  },
  {
   "cell_type": "code",
   "execution_count": 36,
   "metadata": {
    "collapsed": false
   },
   "outputs": [],
   "source": [
    "if (dev_mode == 1):\n",
    "\n",
    "    i_opt = np.argmax(precision)\n",
    "    alpha_opt = alpha_vec[i_opt]\n",
    "    \n",
    "    # Coefficient optimal :  3.56777699893\n",
    "    print \"Coefficient optimal : \", alpha_opt"
   ]
  },
  {
   "cell_type": "markdown",
   "metadata": {},
   "source": [
    "#### Etude des coefficients de rejection"
   ]
  },
  {
   "cell_type": "code",
   "execution_count": 37,
   "metadata": {
    "collapsed": false
   },
   "outputs": [],
   "source": [
    "if (dev_mode == 1):\n",
    "    wrong_preds = (rejections*(preds != real_classes))[i_opt,:]"
   ]
  },
  {
   "cell_type": "markdown",
   "metadata": {},
   "source": [
    "Affichage des mauvaises prédictions"
   ]
  },
  {
   "cell_type": "code",
   "execution_count": 38,
   "metadata": {
    "collapsed": false
   },
   "outputs": [],
   "source": [
    "if (dev_mode == 1):\n",
    "    plt.figure()\n",
    "    plt.clf()\n",
    "    plt.stem(wrong_preds)\n",
    "    plt.title('SCI for wrong predictions using best $\\lambda$')"
   ]
  },
  {
   "cell_type": "markdown",
   "metadata": {},
   "source": [
    "On peut voir que la majorité des erreurs se trouve sur les derniers exemples, avec très peu d'erreur sur les premiers.\n",
    "\n",
    "On a notamment constamment tort pour les 12 derniers exemples, appartenant tous à la même (la dernière) classe.\n",
    "On se rend également compte qu'il ne s'agit pas d'une confusion avec une seule personne : les prédictions pour la dernière personne sont les suivantes : \n",
    "    [ 12.,  14.,  36.,  14.,  27.,   9., 27.,  17.,  22.,  17.,   8.,  19.]."
   ]
  },
  {
   "cell_type": "code",
   "execution_count": 39,
   "metadata": {
    "collapsed": false
   },
   "outputs": [],
   "source": [
    "if (dev_mode == 1):\n",
    "    wrong_preds[-50:]\n",
    "    preds[i_opt,-50:]"
   ]
  },
  {
   "cell_type": "markdown",
   "metadata": {},
   "source": [
    "** Reclassement des coefficients de rejection par classe**\n",
    "\n",
    "Rappel : 12 exemples par classes dans le test, 38 classes."
   ]
  },
  {
   "cell_type": "code",
   "execution_count": 40,
   "metadata": {
    "collapsed": false
   },
   "outputs": [],
   "source": [
    "if (dev_mode == 1):\n",
    "    # Changer les coefficients dans zeros si changement de base.\n",
    "\n",
    "    rejec_by_class = np.zeros((12,38))\n",
    "\n",
    "    j = 0\n",
    "    for i in range(Xtest.shape[1]):\n",
    "        if ((i%12 == 0) & (i != 0)):\n",
    "            j = j+1\n",
    "        rejec_by_class[i%12,j] = rejections[i_opt,i]"
   ]
  },
  {
   "cell_type": "markdown",
   "metadata": {},
   "source": [
    "### Visualisation des résidus pour les exemples où l'algorithme se trompe"
   ]
  },
  {
   "cell_type": "markdown",
   "metadata": {},
   "source": [
    "Choix de l'élément mal classifié #j à étudier"
   ]
  },
  {
   "cell_type": "code",
   "execution_count": 41,
   "metadata": {
    "collapsed": true
   },
   "outputs": [],
   "source": [
    "if (dev_mode == 1):\n",
    "    j = 2"
   ]
  },
  {
   "cell_type": "markdown",
   "metadata": {},
   "source": [
    "Obtention des résidus"
   ]
  },
  {
   "cell_type": "code",
   "execution_count": 52,
   "metadata": {
    "collapsed": false
   },
   "outputs": [],
   "source": [
    "if (dev_mode == 1):\n",
    "\n",
    "    id_wrong_preds = np.where(preds[i_opt,:] != real_classes[i_opt,:])[0]\n",
    "    #for i in id_wrong_preds:\n",
    "    #    print find_class(i)\n",
    "\n",
    "    y = Xtest[:,id_wrong_preds[j]]\n",
    "    clf.fit(Xtrain,y)\n",
    "    x = clf.coef_\n",
    "\n",
    "    # On fait la prédiction\n",
    "    residus_cur = residu(y,Xtrain,x,ytrain)\n",
    "    rejections_cur = SCI(x,ytrain)"
   ]
  },
  {
   "cell_type": "code",
   "execution_count": 54,
   "metadata": {
    "collapsed": false
   },
   "outputs": [
    {
     "data": {
      "text/plain": [
       "array([ 10.74507206,  10.74507206,  10.74507206,  10.45303489,\n",
       "        10.65968093,  10.74507206,  10.74507206,  10.74507206,\n",
       "        10.65163442,  10.74507206,  10.74507206,  10.74507206,\n",
       "        10.71826033,  10.74507206,  10.58737992,  10.75586456,\n",
       "        10.74507206,  10.74507206,  10.74507206,  10.74507206,\n",
       "         2.6354133 ,  10.74507206,  10.74507206,  10.00811951,\n",
       "        11.08369162,  10.6645349 ,  10.47192503,  10.9163689 ,\n",
       "        10.74507206,  10.74507206,  10.81418609,  10.74507206,\n",
       "        10.74507206,  10.74507206,  10.7501273 ,  10.74507206,\n",
       "        10.74507206,  10.74507206])"
      ]
     },
     "execution_count": 54,
     "metadata": {},
     "output_type": "execute_result"
    }
   ],
   "source": [
    "residu(y,Xtrain,x,ytrain)"
   ]
  },
  {
   "cell_type": "markdown",
   "metadata": {},
   "source": [
    "Affichage des résidus"
   ]
  },
  {
   "cell_type": "code",
   "execution_count": 43,
   "metadata": {
    "collapsed": false
   },
   "outputs": [],
   "source": [
    "if (dev_mode == 1):\n",
    "\n",
    "    plt.figure()\n",
    "    plt.clf()\n",
    "    plt.bar(range(38),residus_cur)\n",
    "    plt.title('Real class : ' + str(find_class(id_wrong_preds[j])) + ', coeff rejection ' + str(np.round(rejections_cur,2)))"
   ]
  },
  {
   "cell_type": "markdown",
   "metadata": {},
   "source": [
    "On peut observer les différents résidus pour les mauvais éléments en changeant la valeur de j. On voit que souvent (cas j = 2 par exemple), la vraie classe n'était pas très loin !"
   ]
  },
  {
   "cell_type": "markdown",
   "metadata": {},
   "source": [
    "** Visualisation des images mal classifiées **"
   ]
  },
  {
   "cell_type": "code",
   "execution_count": null,
   "metadata": {
    "collapsed": true
   },
   "outputs": [],
   "source": []
  },
  {
   "cell_type": "code",
   "execution_count": null,
   "metadata": {
    "collapsed": true
   },
   "outputs": [],
   "source": []
  },
  {
   "cell_type": "code",
   "execution_count": null,
   "metadata": {
    "collapsed": true
   },
   "outputs": [],
   "source": []
  },
  {
   "cell_type": "markdown",
   "metadata": {},
   "source": [
    "##### Partie utilisée pour sauvegarder les résultats des simulations"
   ]
  },
  {
   "cell_type": "markdown",
   "metadata": {
    "collapsed": true
   },
   "source": [
    "import pandas as pd"
   ]
  },
  {
   "cell_type": "markdown",
   "metadata": {
    "collapsed": true
   },
   "source": [
    "df_preds = pd.DataFrame(data=np.asarray(preds))\n",
    "df_rejec = pd.DataFrame(data=np.asarray(rejections))"
   ]
  },
  {
   "cell_type": "markdown",
   "metadata": {},
   "source": [
    "df_preds.to_csv('csv_saved/preds0.csv')\n",
    "df_rejec.to_csv('csv_saved/rejec0.csv')"
   ]
  },
  {
   "cell_type": "code",
   "execution_count": null,
   "metadata": {
    "collapsed": true
   },
   "outputs": [],
   "source": []
  }
 ],
 "metadata": {
  "anaconda-cloud": {},
  "kernelspec": {
   "display_name": "Python [default]",
   "language": "python",
   "name": "python2"
  },
  "language_info": {
   "codemirror_mode": {
    "name": "ipython",
    "version": 2
   },
   "file_extension": ".py",
   "mimetype": "text/x-python",
   "name": "python",
   "nbconvert_exporter": "python",
   "pygments_lexer": "ipython2",
   "version": "2.7.12"
  }
 },
 "nbformat": 4,
 "nbformat_minor": 1
}
