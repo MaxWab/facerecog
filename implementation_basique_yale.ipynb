{
 "cells": [
  {
   "cell_type": "markdown",
   "metadata": {
    "collapsed": true
   },
   "source": [
    "# Introduction "
   ]
  },
  {
   "cell_type": "markdown",
   "metadata": {},
   "source": [
    "Dans ce fichier nous allons mettre en place une implémentation basique de l'algorithme proposé dans l'article à étudier."
   ]
  },
  {
   "cell_type": "markdown",
   "metadata": {},
   "source": [
    "Nous allons pour l'instant étudier le dataset Extended Yale B.\n",
    "\n",
    "Les données sont présentes dans le dossier suivant : data/yale/"
   ]
  },
  {
   "cell_type": "markdown",
   "metadata": {},
   "source": [
    "### TODO"
   ]
  },
  {
   "cell_type": "markdown",
   "metadata": {},
   "source": [
    "* Pouvoir charger des images automatiquement à partir de l'id\n",
    "* Reconstruction d'une image à partir des coefficients et comparaison à l'image originale."
   ]
  },
  {
   "cell_type": "markdown",
   "metadata": {},
   "source": [
    "# Imports "
   ]
  },
  {
   "cell_type": "code",
   "execution_count": 1,
   "metadata": {
    "collapsed": true
   },
   "outputs": [],
   "source": [
    "%matplotlib inline"
   ]
  },
  {
   "cell_type": "code",
   "execution_count": 2,
   "metadata": {
    "collapsed": false
   },
   "outputs": [],
   "source": [
    "import numpy as np\n",
    "from PIL import Image\n",
    "import os, sys\n",
    "import matplotlib.pyplot as plt\n",
    "from sklearn.preprocessing import normalize\n",
    "import time"
   ]
  },
  {
   "cell_type": "markdown",
   "metadata": {},
   "source": [
    "# Définition de fonctions utiles"
   ]
  },
  {
   "cell_type": "markdown",
   "metadata": {},
   "source": [
    "Définition de la fonction delta_i, indicatrice de la classe i."
   ]
  },
  {
   "cell_type": "code",
   "execution_count": 3,
   "metadata": {
    "collapsed": false
   },
   "outputs": [],
   "source": [
    "def delta(x,i,classs):\n",
    "    '''\n",
    "    fonction indicatrice de la classe i\n",
    "    '''\n",
    "    n,m = len(x),len(classs)\n",
    "    \n",
    "    if (n != m):\n",
    "        print 'vectors of differents sizes, cannot operate delta'\n",
    "        \n",
    "    tmp = i*np.ones(n)-classs\n",
    "\n",
    "    for k in range(n):\n",
    "        if tmp[k]==0:\n",
    "            tmp[k]=1\n",
    "        else:\n",
    "            tmp[k]=0 \n",
    "            \n",
    "    return tmp*x"
   ]
  },
  {
   "cell_type": "code",
   "execution_count": 4,
   "metadata": {
    "collapsed": false
   },
   "outputs": [
    {
     "name": "stdout",
     "output_type": "stream",
     "text": [
      "[ 0.  0.  0.  0.  0.  0.  0.  0.  0.  0.  0.  6.  6.  6.  0.]\n"
     ]
    }
   ],
   "source": [
    "a = [1,1,1,2,2,2,2,2,2,3,3,4,4,4,5]\n",
    "b = [6,6,6,6,6,6,6,6,6,6,6,6,6,6,6]\n",
    "\n",
    "print delta(b,4,a)"
   ]
  },
  {
   "cell_type": "markdown",
   "metadata": {},
   "source": [
    "Définition de la fonction de résidu qui renvoie la classe minimisant l'erreur de reconstruction suivant la norme L2."
   ]
  },
  {
   "cell_type": "code",
   "execution_count": 108,
   "metadata": {
    "collapsed": false
   },
   "outputs": [],
   "source": [
    "def residu(y,A,x,class_x):\n",
    "    '''\n",
    "    renvoie les residus pour chaque classe.\n",
    "    '''\n",
    "    k = np.max(class_x)+1\n",
    "    r = np.zeros(k)\n",
    "    \n",
    "    for i in range(0,k):\n",
    "        r[i] = np.linalg.norm(y - np.dot(A,delta(x,i,class_x)))\n",
    "        \n",
    "    return r"
   ]
  },
  {
   "cell_type": "markdown",
   "metadata": {},
   "source": [
    "Définition de la fonction retournant l'indice de concentration (_Sparsity Concentration Index_)"
   ]
  },
  {
   "cell_type": "code",
   "execution_count": 118,
   "metadata": {
    "collapsed": false
   },
   "outputs": [],
   "source": [
    "def SCI(x,classs):\n",
    "    '''\n",
    "    @input\n",
    "      - classs: classe de chaque training element.\n",
    "      - x     : sparse coefficients\n",
    "    '''\n",
    "    \n",
    "    k = len(set(classs)) # Nombre de classes différentes\n",
    "    \n",
    "    # Puis on retourne la valeur du SCI\n",
    "    return (k*(1/np.linalg.norm(x,ord=1))*np.max([np.linalg.norm(delta(x,i,classs),ord=1) for i in range(k)]) - 1)/(k-1)\n",
    "    "
   ]
  },
  {
   "cell_type": "markdown",
   "metadata": {},
   "source": [
    "Utilitaire : trouver la classe d'un élément du test set pour le Yale Database"
   ]
  },
  {
   "cell_type": "code",
   "execution_count": 96,
   "metadata": {
    "collapsed": true
   },
   "outputs": [],
   "source": [
    "def find_class(i):\n",
    "    return int(i)/12"
   ]
  },
  {
   "cell_type": "markdown",
   "metadata": {},
   "source": [
    "Utilitaire : fonction pour charger les fichiers"
   ]
  },
  {
   "cell_type": "code",
   "execution_count": 7,
   "metadata": {
    "collapsed": false
   },
   "outputs": [],
   "source": [
    "def read_images(path, sz=None): \n",
    "    '''\n",
    "    Chargement des données\n",
    "    Si spécifiée, réduction de dimensions incluse\n",
    "    '''\n",
    "    c=0\n",
    "    X,y = [], []\n",
    "    for dirname , dirnames , filenames in os.walk(path):\n",
    "        for subdirname in dirnames:\n",
    "            subject_path = os.path.join(dirname , subdirname) \n",
    "            for filename in os.listdir(subject_path):\n",
    "                try:\n",
    "                    im = Image.open(os.path.join(subject_path , filename)) \n",
    "                    im = im.convert(\"L\")\n",
    "                    # resize to given size (if given)\n",
    "                    if (sz is not None):\n",
    "                        im = im.resize(sz, Image.NEAREST)     \n",
    "                    X.append(np.asarray(im, dtype=np.uint8)) \n",
    "                    y.append(c)\n",
    "                except IOError:\n",
    "                    pass\n",
    "                except:\n",
    "                    print \"Unexpected error:\", sys.exc_info()[0] \n",
    "                    raise\n",
    "            c = c+1\n",
    "            print c\n",
    "    return [X,y]"
   ]
  },
  {
   "cell_type": "markdown",
   "metadata": {},
   "source": [
    "# Chargement des images "
   ]
  },
  {
   "cell_type": "code",
   "execution_count": 8,
   "metadata": {
    "collapsed": false
   },
   "outputs": [
    {
     "name": "stdout",
     "output_type": "stream",
     "text": [
      "1\n",
      "2\n",
      "3\n",
      "4\n",
      "5\n",
      "6\n",
      "7\n",
      "8\n",
      "9\n",
      "10\n",
      "11\n",
      "12\n",
      "13\n",
      "14\n",
      "15\n",
      "16\n",
      "17\n",
      "18\n",
      "19\n",
      "20\n",
      "21\n",
      "22\n",
      "23\n",
      "24\n",
      "25\n",
      "26\n",
      "27\n",
      "28\n",
      "29\n",
      "30\n",
      "31\n",
      "32\n",
      "33\n",
      "34\n",
      "35\n",
      "36\n",
      "37\n",
      "38\n"
     ]
    }
   ],
   "source": [
    "X, y = read_images('data/CroppedYale', sz=(12,10))"
   ]
  },
  {
   "cell_type": "markdown",
   "metadata": {},
   "source": [
    "Vérification qu'on a bien chargé les données des individus"
   ]
  },
  {
   "cell_type": "code",
   "execution_count": 9,
   "metadata": {
    "collapsed": false
   },
   "outputs": [
    {
     "data": {
      "text/plain": [
       "2470"
      ]
     },
     "execution_count": 9,
     "metadata": {},
     "output_type": "execute_result"
    }
   ],
   "source": [
    "len(X)"
   ]
  },
  {
   "cell_type": "markdown",
   "metadata": {},
   "source": [
    "Alright : on a bien chargé 585 images qui ont été fournies, par individu (note : les erreurs correspondent aux fichiers .info).\n",
    "\n",
    "*Rappel* : 64 illuminations par personne."
   ]
  },
  {
   "cell_type": "markdown",
   "metadata": {},
   "source": [
    "## Réduction de dimensions "
   ]
  },
  {
   "cell_type": "markdown",
   "metadata": {},
   "source": [
    "La réduction de dimensions est déjà inclue dans le chargement des images.\n",
    "\n",
    "De la même manière que dans l'article, nous réduisons la dimensions des images de ()"
   ]
  },
  {
   "cell_type": "markdown",
   "metadata": {},
   "source": [
    "## Retraitement du dataset "
   ]
  },
  {
   "cell_type": "markdown",
   "metadata": {},
   "source": [
    "Nous allons dans un premier temps supprimer toutes les images \"toutes noires\" (premières images pour chaque individu."
   ]
  },
  {
   "cell_type": "code",
   "execution_count": 10,
   "metadata": {
    "collapsed": false
   },
   "outputs": [],
   "source": [
    "X_new = []\n",
    "y_new = []\n",
    "\n",
    "for i in range(len(X)):\n",
    "    if i%65!=0:\n",
    "        X_new.append(X[i])\n",
    "        y_new.append(y[i])"
   ]
  },
  {
   "cell_type": "markdown",
   "metadata": {},
   "source": [
    "## Séparation du dataset en train et test "
   ]
  },
  {
   "cell_type": "markdown",
   "metadata": {},
   "source": [
    "A chaque personne sont associées 64 images stockées dans _X_new_ :\n",
    "\n",
    "* 29 images \"négatives\" (ex : yaleB01_P00A**-**005E-10)\n",
    "* 35 images \"positives\" (ex : yaleB01_P00A**+**050E-40)\n",
    "\n",
    "_Note :_ Une bonne partie des images est quasiment illisible (très mauvaise luminosité)\n",
    "\n",
    "Afin d'avoir un test set et un train set à peu près homogènes, on va prendre 12 images de test pour 52 images de train (~19% dans le test), soit :\n",
    "\n",
    "* 5 images \"négatives\"\n",
    "* 7 images \"positives\""
   ]
  },
  {
   "cell_type": "code",
   "execution_count": 11,
   "metadata": {
    "collapsed": true
   },
   "outputs": [],
   "source": [
    "X_train, X_test = [], []\n",
    "ytrain, ytest = [], []\n",
    "indices_train, indices_test = [], []\n",
    "\n",
    "for i in range(len(X_new)):\n",
    "    if i%64==0:\n",
    "        # On compute les indices des éléments à placer dans le test, ils sont différents pour chaque image.\n",
    "        test1 = np.random.choice(28,5,replace=False)\n",
    "        test2 = 29 + np.random.choice(28,7,replace=False)\n",
    "    \n",
    "    # On crée X_test et X_train\n",
    "    if ((i%64 in test1) or (i%64 in test2)):\n",
    "        X_test.append(X_new[i])\n",
    "        ytest.append(y_new[i])\n",
    "        indices_test.append(i)\n",
    "    else:\n",
    "        X_train.append(X_new[i])\n",
    "        ytrain.append(y_new[i])\n",
    "        indices_train.append(i)"
   ]
  },
  {
   "cell_type": "markdown",
   "metadata": {
    "collapsed": true
   },
   "source": [
    "## Manipulation des matrices"
   ]
  },
  {
   "cell_type": "markdown",
   "metadata": {},
   "source": [
    "On déroule chaque image en un vecteur puis on les concatène."
   ]
  },
  {
   "cell_type": "code",
   "execution_count": 12,
   "metadata": {
    "collapsed": true
   },
   "outputs": [],
   "source": [
    "X_toconcat_train = [np.reshape(e,(120,1)) for e in X_train]\n",
    "X_toconcat_test = [np.reshape(e,(120,1)) for e in X_test]"
   ]
  },
  {
   "cell_type": "code",
   "execution_count": 13,
   "metadata": {
    "collapsed": false
   },
   "outputs": [],
   "source": [
    "Xtrain = np.concatenate(X_toconcat_train,axis=1)\n",
    "Xtest = np.concatenate(X_toconcat_test,axis=1) # Liste des samples du test, concaténés en colonne."
   ]
  },
  {
   "cell_type": "markdown",
   "metadata": {},
   "source": [
    "Vérification qu'on a la bonne taille"
   ]
  },
  {
   "cell_type": "code",
   "execution_count": 14,
   "metadata": {
    "collapsed": false
   },
   "outputs": [
    {
     "name": "stdout",
     "output_type": "stream",
     "text": [
      "('Taille du nouveau dataset', (120, 456))\n"
     ]
    }
   ],
   "source": [
    "print('Taille du nouveau dataset',Xtest.shape)"
   ]
  },
  {
   "cell_type": "markdown",
   "metadata": {},
   "source": [
    "C'est ok !"
   ]
  },
  {
   "cell_type": "markdown",
   "metadata": {},
   "source": [
    "# Implémentation de l'algorithme 1 "
   ]
  },
  {
   "cell_type": "code",
   "execution_count": 15,
   "metadata": {
    "collapsed": false
   },
   "outputs": [],
   "source": [
    "from sklearn.linear_model import Lasso"
   ]
  },
  {
   "cell_type": "markdown",
   "metadata": {},
   "source": [
    "On voit dans la littérature que cela revient à traiter le problème Lasso."
   ]
  },
  {
   "cell_type": "markdown",
   "metadata": {
    "collapsed": true
   },
   "source": [
    "D'abord on crée un vecteur d'$\\alpha_i$ à tester avec Lasso.\n",
    "\n",
    "Puisqu'on utilise la fonction Lasso il est nécessaire d'adapter nos $\\alpha_i$ à la dimension de $y$."
   ]
  },
  {
   "cell_type": "code",
   "execution_count": 27,
   "metadata": {
    "collapsed": true
   },
   "outputs": [],
   "source": [
    "alpha_vec = np.logspace(2,4,20)\n",
    "alpha_vec = alpha_vec/(Xtest.shape[0])"
   ]
  },
  {
   "cell_type": "markdown",
   "metadata": {},
   "source": [
    "Puis on utilise Lasso pour trouver la solution à notre problème."
   ]
  },
  {
   "cell_type": "code",
   "execution_count": 28,
   "metadata": {
    "collapsed": false
   },
   "outputs": [],
   "source": [
    "#for i, alpha in enumerate(alpha_vec):\n",
    "\n",
    "testval = 22\n",
    "\n",
    "clf = Lasso(alpha=alpha_vec[4]) #on prend l'alpha courant\n",
    "clf.fit(Xtrain,Xtest[:,testval])\n",
    "x = clf.coef_"
   ]
  },
  {
   "cell_type": "markdown",
   "metadata": {},
   "source": [
    "** Affichage des résultats **"
   ]
  },
  {
   "cell_type": "code",
   "execution_count": 29,
   "metadata": {
    "collapsed": false
   },
   "outputs": [
    {
     "name": "stdout",
     "output_type": "stream",
     "text": [
      "Classe réelle:  1\n",
      "Classe prédite:  1\n",
      "Rejection:  0.102789502334\n"
     ]
    }
   ],
   "source": [
    "print \"Classe réelle: \", ytest[testval]\n",
    "print \"Classe prédite: \",np.argmin(residu(Xtest[:,testval],Xtrain,x,ytrain))\n",
    "print \"Rejection: \", SCI(x,ytrain)"
   ]
  },
  {
   "cell_type": "code",
   "execution_count": 30,
   "metadata": {
    "collapsed": false
   },
   "outputs": [
    {
     "data": {
      "text/plain": [
       "<matplotlib.text.Text at 0x111919fd0>"
      ]
     },
     "execution_count": 30,
     "metadata": {},
     "output_type": "execute_result"
    },
    {
     "data": {
      "image/png": "[encoded data removed]",
      "text/plain": [
       "<matplotlib.figure.Figure at 0x10d69c890>"
      ]
     },
     "metadata": {},
     "output_type": "display_data"
    }
   ],
   "source": [
    "plt.figure()\n",
    "plt.stem(x)\n",
    "plt.title('Classe reelle: ' + str(ytest[testval]))"
   ]
  },
  {
   "cell_type": "markdown",
   "metadata": {},
   "source": [
    "Avantage : meilleure interprétabilité des résultats : on sait où il y a des erreurs et pourquoi il y a des erreurs."
   ]
  },
  {
   "cell_type": "markdown",
   "metadata": {
    "collapsed": true
   },
   "source": [
    "### Reconstruction de l'image"
   ]
  },
  {
   "cell_type": "code",
   "execution_count": null,
   "metadata": {
    "collapsed": true
   },
   "outputs": [],
   "source": []
  },
  {
   "cell_type": "code",
   "execution_count": null,
   "metadata": {
    "collapsed": true
   },
   "outputs": [],
   "source": []
  },
  {
   "cell_type": "code",
   "execution_count": null,
   "metadata": {
    "collapsed": true
   },
   "outputs": [],
   "source": []
  },
  {
   "cell_type": "code",
   "execution_count": null,
   "metadata": {
    "collapsed": true
   },
   "outputs": [],
   "source": []
  },
  {
   "cell_type": "markdown",
   "metadata": {},
   "source": [
    "### Identification du meilleur lambda pour la régularisation, performance sans rejection"
   ]
  },
  {
   "cell_type": "markdown",
   "metadata": {},
   "source": [
    "On va regarder la précision de notre algorithme pour différents lambda.\n",
    "\n",
    "La métrique sera le _pourcentage de bonne classification_."
   ]
  },
  {
   "cell_type": "code",
   "execution_count": 32,
   "metadata": {
    "collapsed": false
   },
   "outputs": [
    {
     "name": "stdout",
     "output_type": "stream",
     "text": [
      "Coefficient de régularisation:  0.833333333333\n",
      "Boucle # 1 / 20\n",
      "0 exemples traités en 0.334184885025 s\n",
      "50 exemples traités en 15.6089439392 s\n",
      "100 exemples traités en 32.920017004 s\n",
      "150 exemples traités en 50.8955528736 s\n",
      "200 exemples traités en 67.6931447983 s\n",
      "250 exemples traités en 84.2934668064 s\n",
      "300 exemples traités en 100.988780022 s\n",
      "350 exemples traités en 118.000137806 s\n",
      "400 exemples traités en 134.923478842 s\n",
      "450 exemples traités en 151.631476879 s\n",
      "Temps écoulé pour la boucle :  153.494189024\n",
      "Coefficient de régularisation:  1.06189582142\n",
      "Boucle # 2 / 20\n",
      "0 exemples traités en 0.303414821625 s\n",
      "50 exemples traités en 16.9340109825 s\n",
      "100 exemples traités en 33.4268088341 s\n",
      "150 exemples traités en 50.1180138588 s\n",
      "200 exemples traités en 66.5748548508 s\n",
      "250 exemples traités en 83.4435229301 s\n",
      "300 exemples traités en 99.9793608189 s\n",
      "350 exemples traités en 116.600124836 s\n",
      "400 exemples traités en 132.928030968 s\n",
      "450 exemples traités en 154.342698812 s\n",
      "Temps écoulé pour la boucle :  155.982754946\n",
      "Coefficient de régularisation:  1.35314728266\n",
      "Boucle # 3 / 20\n",
      "0 exemples traités en 0.318445920944 s\n",
      "50 exemples traités en 16.6937909126 s\n",
      "100 exemples traités en 32.9884140491 s\n",
      "150 exemples traités en 49.1680710316 s\n",
      "200 exemples traités en 65.2874629498 s\n",
      "250 exemples traités en 81.3938961029 s\n",
      "300 exemples traités en 97.7537770271 s\n",
      "350 exemples traités en 114.371431112 s\n",
      "400 exemples traités en 131.017667055 s\n",
      "450 exemples traités en 147.110654116 s\n",
      "Temps écoulé pour la boucle :  148.716584921\n",
      "Coefficient de régularisation:  1.72428173426\n",
      "Boucle # 4 / 20\n",
      "0 exemples traités en 0.332406044006 s\n",
      "50 exemples traités en 16.5313210487 s\n",
      "100 exemples traités en 32.6284849644 s\n",
      "150 exemples traités en 49.0331778526 s\n",
      "200 exemples traités en 65.2608988285 s\n",
      "250 exemples traités en 82.6871049404 s\n",
      "300 exemples traités en 105.540747881 s\n",
      "350 exemples traités en 125.38416791 s\n",
      "400 exemples traités en 141.763507843 s\n",
      "450 exemples traités en 157.217602968 s\n",
      "Temps écoulé pour la boucle :  158.847748995\n",
      "Coefficient de régularisation:  2.19720908228\n",
      "Boucle # 5 / 20\n",
      "0 exemples traités en 0.3303129673 s\n",
      "50 exemples traités en 16.1129450798 s\n",
      "100 exemples traités en 31.5981800556 s\n",
      "150 exemples traités en 47.0191669464 s\n",
      "200 exemples traités en 63.6395311356 s\n",
      "250 exemples traités en 78.9757511616 s\n",
      "300 exemples traités en 94.4106490612 s\n",
      "350 exemples traités en 110.797358036 s\n",
      "400 exemples traités en 123.577851057 s\n",
      "450 exemples traités en 135.988324165 s\n",
      "Temps écoulé pour la boucle :  137.239334106\n",
      "Coefficient de régularisation:  2.7998485719\n",
      "Boucle # 6 / 20\n",
      "0 exemples traités en 0.256668806076 s\n",
      "50 exemples traités en 12.6805918217 s\n",
      "100 exemples traités en 26.77420187 s\n",
      "150 exemples traités en 41.0695209503 s\n",
      "200 exemples traités en 56.5819659233 s\n",
      "250 exemples traités en 75.5069329739 s\n",
      "300 exemples traités en 94.2821218967 s\n",
      "350 exemples traités en 113.354372978 s\n",
      "400 exemples traités en 128.912668943 s\n",
      "450 exemples traités en 143.461982012 s\n",
      "Temps écoulé pour la boucle :  144.721176863\n",
      "Coefficient de régularisation:  3.56777699893\n",
      "Boucle # 7 / 20\n",
      "0 exemples traités en 0.229449033737 s\n",
      "50 exemples traités en 15.264827013 s\n",
      "100 exemples traités en 30.9995689392 s\n",
      "150 exemples traités en 49.0992469788 s\n",
      "200 exemples traités en 63.8833420277 s\n",
      "250 exemples traités en 78.9795761108 s\n",
      "300 exemples traités en 95.9336841106 s\n",
      "350 exemples traités en 111.61489892 s\n",
      "400 exemples traités en 126.018633127 s\n",
      "450 exemples traités en 139.532117128 s\n",
      "Temps écoulé pour la boucle :  140.872395039\n",
      "Coefficient de régularisation:  4.54632898431\n",
      "Boucle # 8 / 20\n",
      "0 exemples traités en 0.245719909668 s\n",
      "50 exemples traités en 12.700042963 s\n",
      "100 exemples traités en 25.1356868744 s\n",
      "150 exemples traités en 39.0457830429 s\n",
      "200 exemples traités en 51.586838007 s\n",
      "250 exemples traités en 69.0076670647 s\n",
      "300 exemples traités en 84.6846969128 s\n",
      "350 exemples traités en 98.4865040779 s\n",
      "400 exemples traités en 111.858304024 s\n",
      "450 exemples traités en 124.772485018 s\n",
      "Temps écoulé pour la boucle :  126.114165068\n",
      "Coefficient de régularisation:  5.79327330148\n",
      "Boucle # 9 / 20\n",
      "0 exemples traités en 0.325601100922 s\n",
      "50 exemples traités en 12.7536940575 s\n",
      "100 exemples traités en 25.8973619938 s\n",
      "150 exemples traités en 39.6303470135 s\n",
      "200 exemples traités en 52.7574131489 s\n",
      "250 exemples traités en 64.509303093 s\n",
      "300 exemples traités en 75.6827831268 s\n",
      "350 exemples traités en 90.129458189 s\n",
      "400 exemples traités en 102.464344025 s\n",
      "450 exemples traités en 117.935376167 s\n",
      "Temps écoulé pour la boucle :  119.317690134\n",
      "Coefficient de régularisation:  7.38222325342\n",
      "Boucle # 10 / 20\n",
      "0 exemples traités en 0.230782985687 s\n",
      "50 exemples traités en 14.3237948418 s\n",
      "100 exemples traités en 27.3362858295 s\n",
      "150 exemples traités en 39.3626949787 s\n",
      "200 exemples traités en 52.1275179386 s\n",
      "250 exemples traités en 66.1092379093 s\n",
      "300 exemples traités en 78.554366827 s\n",
      "350 exemples traités en 93.3872749805 s\n",
      "400 exemples traités en 108.704262972 s\n",
      "450 exemples traités en 123.273576975 s\n",
      "Temps écoulé pour la boucle :  126.52877903\n",
      "Coefficient de régularisation:  9.40698243071\n",
      "Boucle # 11 / 20\n",
      "0 exemples traités en 0.349592924118 s\n",
      "50 exemples traités en 18.6138100624 s\n",
      "100 exemples traités en 33.5477159023 s\n",
      "150 exemples traités en 46.9637608528 s\n",
      "200 exemples traités en 60.8726980686 s\n",
      "250 exemples traités en 76.6619858742 s\n",
      "300 exemples traités en 91.7950239182 s\n",
      "350 exemples traités en 105.809896946 s\n",
      "400 exemples traités en 121.414947033 s\n",
      "450 exemples traités en 134.773584843 s\n",
      "Temps écoulé pour la boucle :  135.990573883\n",
      "Coefficient de régularisation:  11.9870824024\n",
      "Boucle # 12 / 20\n",
      "0 exemples traités en 0.165237903595 s\n",
      "50 exemples traités en 11.0864980221 s\n",
      "100 exemples traités en 25.1574969292 s\n",
      "150 exemples traités en 37.3563108444 s\n",
      "200 exemples traités en 48.0914809704 s\n",
      "250 exemples traités en 58.7566699982 s\n",
      "300 exemples traités en 69.2927649021 s\n",
      "350 exemples traités en 79.9898719788 s\n",
      "400 exemples traités en 90.505204916 s\n",
      "450 exemples traités en 100.633874893 s\n",
      "Temps écoulé pour la boucle :  101.786427021\n",
      "Coefficient de régularisation:  15.2748392569\n",
      "Boucle # 13 / 20\n",
      "0 exemples traités en 0.159828901291 s\n",
      "50 exemples traités en 9.8370988369 s\n",
      "100 exemples traités en 19.8150758743 s\n",
      "150 exemples traités en 30.0154509544 s\n",
      "200 exemples traités en 40.3811750412 s\n",
      "250 exemples traités en 50.3073320389 s\n",
      "300 exemples traités en 60.1922109127 s\n",
      "350 exemples traités en 70.1125359535 s\n",
      "400 exemples traités en 79.8225288391 s\n",
      "450 exemples traités en 89.3876390457 s\n",
      "Temps écoulé pour la boucle :  90.5305519104\n",
      "Coefficient de régularisation:  19.4643455758\n",
      "Boucle # 14 / 20\n",
      "0 exemples traités en 0.140609025955 s\n",
      "50 exemples traités en 9.22449207306 s\n",
      "100 exemples traités en 18.4458639622 s\n",
      "150 exemples traités en 28.0360209942 s\n",
      "200 exemples traités en 37.8514389992 s\n",
      "250 exemples traités en 47.0612719059 s\n",
      "300 exemples traités en 56.3686048985 s\n",
      "350 exemples traités en 65.7480208874 s\n",
      "400 exemples traités en 74.8909058571 s\n",
      "450 exemples traités en 83.7829809189 s\n",
      "Temps écoulé pour la boucle :  84.8671560287\n",
      "Coefficient de régularisation:  24.8029286803\n",
      "Boucle # 15 / 20\n",
      "0 exemples traités en 0.137520074844 s\n",
      "50 exemples traités en 8.47743606567 s\n",
      "100 exemples traités en 17.0686349869 s\n",
      "150 exemples traités en 26.1443860531 s\n",
      "200 exemples traités en 35.4413158894 s\n",
      "250 exemples traités en 44.3875238895 s\n",
      "300 exemples traités en 53.1731069088 s\n",
      "350 exemples traités en 62.0315029621 s\n",
      "400 exemples traités en 70.5982840061 s\n",
      "450 exemples traités en 81.2110409737 s\n",
      "Temps écoulé pour la boucle :  82.2514259815\n",
      "Coefficient de régularisation:  31.6057515894\n",
      "Boucle # 16 / 20\n",
      "0 exemples traités en 0.136984825134 s\n",
      "50 exemples traités en 8.00244879723 s\n",
      "100 exemples traités en 16.0870249271 s\n",
      "150 exemples traités en 24.3959469795 s\n",
      "200 exemples traités en 33.3060188293 s\n",
      "250 exemples traités en 42.8760678768 s\n",
      "300 exemples traités en 50.8670969009 s\n",
      "350 exemples traités en 58.8246657848 s\n",
      "400 exemples traités en 66.9558198452 s\n",
      "450 exemples traités en 74.702600956 s\n",
      "Temps écoulé pour la boucle :  75.6742329597\n",
      "Coefficient de régularisation:  40.2744186548\n",
      "Boucle # 17 / 20\n",
      "0 exemples traités en 0.160589933395 s\n",
      "50 exemples traités en 9.04425191879 s\n",
      "100 exemples traités en 16.4944550991 s\n",
      "150 exemples traités en 24.2260100842 s\n",
      "200 exemples traités en 32.0947949886 s\n",
      "250 exemples traités en 39.5950050354 s\n",
      "300 exemples traités en 48.6339268684 s\n",
      "350 exemples traités en 56.7080020905 s\n",
      "400 exemples traités en 64.0433869362 s\n",
      "450 exemples traités en 71.4706220627 s\n",
      "Temps écoulé pour la boucle :  72.4650890827\n",
      "Coefficient de régularisation:  51.3206842555\n",
      "Boucle # 18 / 20\n",
      "0 exemples traités en 0.144977092743 s\n",
      "50 exemples traités en 7.15242695808 s\n",
      "100 exemples traités en 14.2357718945 s\n",
      "150 exemples traités en 22.2261519432 s\n",
      "200 exemples traités en 30.2018229961 s\n",
      "250 exemples traités en 37.3441419601 s\n",
      "300 exemples traités en 44.4751780033 s\n",
      "350 exemples traités en 52.5217220783 s\n",
      "400 exemples traités en 59.5855538845 s\n",
      "450 exemples traités en 66.6533210278 s\n",
      "Temps écoulé pour la boucle :  67.4601500034\n",
      "Coefficient de régularisation:  65.396664196\n",
      "Boucle # 19 / 20\n",
      "0 exemples traités en 0.123615026474 s\n",
      "50 exemples traités en 8.93484210968 s\n",
      "100 exemples traités en 15.8130829334 s\n",
      "150 exemples traités en 22.7573680878 s\n",
      "200 exemples traités en 29.8474829197 s\n",
      "250 exemples traités en 36.7355561256 s\n",
      "300 exemples traités en 43.5556559563 s\n",
      "350 exemples traités en 51.0689640045 s\n",
      "400 exemples traités en 58.7168331146 s\n",
      "450 exemples traités en 65.4673879147 s\n",
      "Temps écoulé pour la boucle :  66.2459850311\n",
      "Coefficient de régularisation:  83.3333333333\n",
      "Boucle # 20 / 20\n",
      "0 exemples traités en 0.125986099243 s\n",
      "50 exemples traités en 6.6401860714 s\n",
      "100 exemples traités en 13.2516100407 s\n",
      "150 exemples traités en 20.2965371609 s\n",
      "200 exemples traités en 27.3877141476 s\n",
      "250 exemples traités en 34.1062059402 s\n",
      "300 exemples traités en 40.8213269711 s\n",
      "350 exemples traités en 47.7692191601 s\n",
      "400 exemples traités en 54.6840801239 s\n",
      "450 exemples traités en 61.5552911758 s\n",
      "Temps écoulé pour la boucle :  62.3202819824\n"
     ]
    }
   ],
   "source": [
    "# Rappel : \n",
    "# * y : Elément à tester (est une colonne de Xtest)\n",
    "# * Xtrain : Matrice A des exemples d'entrainement\n",
    "# * x : coefficients issus de la minimisation LASSO\n",
    "# * ytrain : classe des exemples d'entrainement\n",
    "\n",
    "preds = np.zeros((len(alpha_vec),Xtest.shape[1]))\n",
    "rejections = np.zeros((len(alpha_vec),Xtest.shape[1]))\n",
    "\n",
    "for i, alpha in enumerate(alpha_vec):\n",
    "    t = time.time()\n",
    "    print \"Coefficient de régularisation: \", alpha\n",
    "    print \"Boucle #\",i+1,\"/\",len(alpha_vec)\n",
    "    clf = Lasso(alpha=alpha) # on crée un modèle avec l'alpha courant\n",
    "    for j in range(Xtest.shape[1]):\n",
    "        # Pour chaque exemple à tester on génère les coefficients et on prend la meilleure prédiction\n",
    "        y = Xtest[:,j]\n",
    "        clf.fit(Xtrain,y)\n",
    "        x = clf.coef_\n",
    "        \n",
    "        # On fait la prédiction\n",
    "        preds[i,j] = np.argmin(residu(y,Xtrain,x,ytrain)) \n",
    "        rejections[i,j] = SCI(x,ytrain)\n",
    "        \n",
    "        # Affichage d'un message pour suivre l'avancement de l'algorithme\n",
    "        \n",
    "        if (j%50 == 0):\n",
    "            print j, \"exemples traités en\",time.time() - t ,\"s\"\n",
    "        \n",
    "    print \"Temps écoulé pour la boucle : \", time.time() - t"
   ]
  },
  {
   "cell_type": "markdown",
   "metadata": {},
   "source": [
    "On remarque que l'entrainement est spécialement long puisqu'on doit réentrainer un classifieur pour chaque exemple !\n",
    "\n",
    "Mais c'est parallélisable"
   ]
  },
  {
   "cell_type": "markdown",
   "metadata": {},
   "source": [
    "On calcule maintenant la précision pour chaque lambda"
   ]
  },
  {
   "cell_type": "code",
   "execution_count": 42,
   "metadata": {
    "collapsed": false
   },
   "outputs": [],
   "source": [
    "# Définition des classes réelles\n",
    "real_classes = np.reshape(ytest*len(alpha_vec),(len(alpha_vec),len(ytest)))\n",
    "\n",
    "# Evaluation de la précision\n",
    "\n",
    "precision = 100.0*np.sum(preds == real_classes,axis=1)/len(ytest)"
   ]
  },
  {
   "cell_type": "markdown",
   "metadata": {},
   "source": [
    "**Affichage des résultats**"
   ]
  },
  {
   "cell_type": "code",
   "execution_count": 46,
   "metadata": {
    "collapsed": false
   },
   "outputs": [
    {
     "data": {
      "text/plain": [
       "[0, 20, 85, 95]"
      ]
     },
     "execution_count": 46,
     "metadata": {},
     "output_type": "execute_result"
    },
    {
     "data": {
      "image/png": "[encoded data removed]",
      "text/plain": [
       "<matplotlib.figure.Figure at 0x11727ce50>"
      ]
     },
     "metadata": {},
     "output_type": "display_data"
    }
   ],
   "source": [
    "plt.figure()\n",
    "plt.clf()\n",
    "plt.plot(alpha_vec,precision)\n",
    "plt.title('Evolution de la precision en fonction de $\\lambda$')\n",
    "plt.axis([0, 20, 85,95])"
   ]
  },
  {
   "cell_type": "markdown",
   "metadata": {},
   "source": [
    "Détermination du coefficient optimal de régularisation"
   ]
  },
  {
   "cell_type": "code",
   "execution_count": 62,
   "metadata": {
    "collapsed": false
   },
   "outputs": [],
   "source": [
    "i_opt = np.argmax(precision)\n",
    "alpha_opt = alpha_vec[i_opt]"
   ]
  },
  {
   "cell_type": "code",
   "execution_count": 123,
   "metadata": {
    "collapsed": false
   },
   "outputs": [
    {
     "name": "stdout",
     "output_type": "stream",
     "text": [
      "Coefficient optimal :  3.56777699893\n"
     ]
    }
   ],
   "source": [
    "# Coefficient optimal :  3.56777699893\n",
    "print \"Coefficient optimal : \", alpha_opt"
   ]
  },
  {
   "cell_type": "markdown",
   "metadata": {},
   "source": [
    "#### Etude des coefficients de rejection"
   ]
  },
  {
   "cell_type": "code",
   "execution_count": 64,
   "metadata": {
    "collapsed": false
   },
   "outputs": [],
   "source": [
    "wrong_preds = (rejections*(preds != real_classes))[i_opt,:]"
   ]
  },
  {
   "cell_type": "markdown",
   "metadata": {},
   "source": [
    "Affichage des mauvaises prédictions"
   ]
  },
  {
   "cell_type": "code",
   "execution_count": 68,
   "metadata": {
    "collapsed": false
   },
   "outputs": [
    {
     "data": {
      "text/plain": [
       "<matplotlib.text.Text at 0x11c1c8410>"
      ]
     },
     "execution_count": 68,
     "metadata": {},
     "output_type": "execute_result"
    },
    {
     "data": {
      "image/png": "[encoded data removed]",
      "text/plain": [
       "<matplotlib.figure.Figure at 0x11c1abd10>"
      ]
     },
     "metadata": {},
     "output_type": "display_data"
    }
   ],
   "source": [
    "plt.figure()\n",
    "plt.clf()\n",
    "plt.stem(wrong_preds)\n",
    "plt.title('SCI for wrong predictions using best $\\lambda$')"
   ]
  },
  {
   "cell_type": "markdown",
   "metadata": {},
   "source": [
    "On peut voir que la majorité des erreurs se trouve sur les derniers exemples, avec très peu d'erreur sur les premiers.\n",
    "\n",
    "On a notamment constamment tort pour les 12 derniers exemples, appartenant tous à la même (la dernière) classe.\n",
    "On se rend également compte qu'il ne s'agit pas d'une confusion avec une seule personne : les prédictions pour la dernière personne sont les suivantes : \n",
    "    [ 12.,  14.,  36.,  14.,  27.,   9., 27.,  17.,  22.,  17.,   8.,  19.]."
   ]
  },
  {
   "cell_type": "code",
   "execution_count": 78,
   "metadata": {
    "collapsed": false
   },
   "outputs": [
    {
     "data": {
      "text/plain": [
       "array([ 33.,  33.,  34.,  34.,  34.,  34.,  34.,  34.,  34.,   6.,  34.,\n",
       "        34.,  34.,  34.,  35.,  35.,  35.,  35.,  35.,  35.,   4.,  35.,\n",
       "        35.,  35.,  35.,  35.,  36.,  36.,  36.,  36.,  23.,  36.,  36.,\n",
       "        36.,  36.,  36.,  36.,  36.,  12.,  14.,  36.,  14.,  27.,   9.,\n",
       "        27.,  17.,  22.,  17.,   8.,  19.])"
      ]
     },
     "execution_count": 78,
     "metadata": {},
     "output_type": "execute_result"
    }
   ],
   "source": [
    "wrong_preds[-50:]\n",
    "preds[i_opt,-50:]"
   ]
  },
  {
   "cell_type": "markdown",
   "metadata": {},
   "source": [
    "** Reclassement des coefficients de rejection par classe**\n",
    "\n",
    "Rappel : 12 exemples par classes dans le test, 38 classes."
   ]
  },
  {
   "cell_type": "code",
   "execution_count": 88,
   "metadata": {
    "collapsed": false
   },
   "outputs": [],
   "source": [
    "# Changer les coefficients dans zeros si changement de base.\n",
    "\n",
    "rejec_by_class = np.zeros((12,38))\n",
    "\n",
    "j = 0\n",
    "for i in range(Xtest.shape[1]):\n",
    "    if ((i%12 == 0) & (i != 0)):\n",
    "        j = j+1\n",
    "    rejec_by_class[i%12,j] = rejections[i_opt,i]"
   ]
  },
  {
   "cell_type": "code",
   "execution_count": 89,
   "metadata": {
    "collapsed": false
   },
   "outputs": [
    {
     "data": {
      "text/html": [
       "<div>\n",
       "<table border=\"1\" class=\"dataframe\">\n",
       "  <thead>\n",
       "    <tr style=\"text-align: right;\">\n",
       "      <th></th>\n",
       "      <th>0</th>\n",
       "      <th>1</th>\n",
       "      <th>2</th>\n",
       "      <th>3</th>\n",
       "      <th>4</th>\n",
       "      <th>5</th>\n",
       "      <th>6</th>\n",
       "      <th>7</th>\n",
       "      <th>8</th>\n",
       "      <th>9</th>\n",
       "      <th>...</th>\n",
       "      <th>28</th>\n",
       "      <th>29</th>\n",
       "      <th>30</th>\n",
       "      <th>31</th>\n",
       "      <th>32</th>\n",
       "      <th>33</th>\n",
       "      <th>34</th>\n",
       "      <th>35</th>\n",
       "      <th>36</th>\n",
       "      <th>37</th>\n",
       "    </tr>\n",
       "  </thead>\n",
       "  <tbody>\n",
       "    <tr>\n",
       "      <th>count</th>\n",
       "      <td>12.000000</td>\n",
       "      <td>12.000000</td>\n",
       "      <td>12.000000</td>\n",
       "      <td>12.000000</td>\n",
       "      <td>12.000000</td>\n",
       "      <td>12.000000</td>\n",
       "      <td>12.000000</td>\n",
       "      <td>12.000000</td>\n",
       "      <td>12.000000</td>\n",
       "      <td>12.000000</td>\n",
       "      <td>...</td>\n",
       "      <td>12.000000</td>\n",
       "      <td>12.000000</td>\n",
       "      <td>12.000000</td>\n",
       "      <td>12.000000</td>\n",
       "      <td>12.000000</td>\n",
       "      <td>12.000000</td>\n",
       "      <td>12.000000</td>\n",
       "      <td>12.000000</td>\n",
       "      <td>12.000000</td>\n",
       "      <td>12.000000</td>\n",
       "    </tr>\n",
       "    <tr>\n",
       "      <th>mean</th>\n",
       "      <td>0.243528</td>\n",
       "      <td>0.189966</td>\n",
       "      <td>0.212363</td>\n",
       "      <td>0.282957</td>\n",
       "      <td>0.212809</td>\n",
       "      <td>0.255240</td>\n",
       "      <td>0.281807</td>\n",
       "      <td>0.202025</td>\n",
       "      <td>0.240838</td>\n",
       "      <td>0.163296</td>\n",
       "      <td>...</td>\n",
       "      <td>0.222278</td>\n",
       "      <td>0.215757</td>\n",
       "      <td>0.210436</td>\n",
       "      <td>0.156597</td>\n",
       "      <td>0.236310</td>\n",
       "      <td>0.228954</td>\n",
       "      <td>0.182728</td>\n",
       "      <td>0.296736</td>\n",
       "      <td>0.324850</td>\n",
       "      <td>0.212092</td>\n",
       "    </tr>\n",
       "    <tr>\n",
       "      <th>std</th>\n",
       "      <td>0.116672</td>\n",
       "      <td>0.109344</td>\n",
       "      <td>0.092623</td>\n",
       "      <td>0.132177</td>\n",
       "      <td>0.090210</td>\n",
       "      <td>0.154864</td>\n",
       "      <td>0.148357</td>\n",
       "      <td>0.085100</td>\n",
       "      <td>0.140247</td>\n",
       "      <td>0.119284</td>\n",
       "      <td>...</td>\n",
       "      <td>0.114716</td>\n",
       "      <td>0.091770</td>\n",
       "      <td>0.136980</td>\n",
       "      <td>0.111412</td>\n",
       "      <td>0.149039</td>\n",
       "      <td>0.150680</td>\n",
       "      <td>0.106884</td>\n",
       "      <td>0.196066</td>\n",
       "      <td>0.187832</td>\n",
       "      <td>0.128217</td>\n",
       "    </tr>\n",
       "    <tr>\n",
       "      <th>min</th>\n",
       "      <td>0.108293</td>\n",
       "      <td>0.098795</td>\n",
       "      <td>0.097270</td>\n",
       "      <td>0.115612</td>\n",
       "      <td>0.126853</td>\n",
       "      <td>0.086041</td>\n",
       "      <td>0.095562</td>\n",
       "      <td>0.097141</td>\n",
       "      <td>0.056753</td>\n",
       "      <td>0.055652</td>\n",
       "      <td>...</td>\n",
       "      <td>0.092950</td>\n",
       "      <td>0.102719</td>\n",
       "      <td>0.056420</td>\n",
       "      <td>0.027204</td>\n",
       "      <td>0.072647</td>\n",
       "      <td>0.092808</td>\n",
       "      <td>0.078768</td>\n",
       "      <td>0.041258</td>\n",
       "      <td>0.028125</td>\n",
       "      <td>0.039849</td>\n",
       "    </tr>\n",
       "    <tr>\n",
       "      <th>25%</th>\n",
       "      <td>0.158071</td>\n",
       "      <td>0.117326</td>\n",
       "      <td>0.129043</td>\n",
       "      <td>0.185285</td>\n",
       "      <td>0.131561</td>\n",
       "      <td>0.104186</td>\n",
       "      <td>0.179792</td>\n",
       "      <td>0.135010</td>\n",
       "      <td>0.131953</td>\n",
       "      <td>0.077737</td>\n",
       "      <td>...</td>\n",
       "      <td>0.153069</td>\n",
       "      <td>0.148195</td>\n",
       "      <td>0.102678</td>\n",
       "      <td>0.071636</td>\n",
       "      <td>0.120058</td>\n",
       "      <td>0.136062</td>\n",
       "      <td>0.118100</td>\n",
       "      <td>0.143748</td>\n",
       "      <td>0.165851</td>\n",
       "      <td>0.107745</td>\n",
       "    </tr>\n",
       "    <tr>\n",
       "      <th>50%</th>\n",
       "      <td>0.228749</td>\n",
       "      <td>0.144080</td>\n",
       "      <td>0.204185</td>\n",
       "      <td>0.272431</td>\n",
       "      <td>0.181190</td>\n",
       "      <td>0.203457</td>\n",
       "      <td>0.262026</td>\n",
       "      <td>0.191680</td>\n",
       "      <td>0.200469</td>\n",
       "      <td>0.103077</td>\n",
       "      <td>...</td>\n",
       "      <td>0.187953</td>\n",
       "      <td>0.175713</td>\n",
       "      <td>0.174491</td>\n",
       "      <td>0.121313</td>\n",
       "      <td>0.180470</td>\n",
       "      <td>0.149841</td>\n",
       "      <td>0.150124</td>\n",
       "      <td>0.228281</td>\n",
       "      <td>0.369561</td>\n",
       "      <td>0.177477</td>\n",
       "    </tr>\n",
       "    <tr>\n",
       "      <th>75%</th>\n",
       "      <td>0.261951</td>\n",
       "      <td>0.215149</td>\n",
       "      <td>0.295807</td>\n",
       "      <td>0.405065</td>\n",
       "      <td>0.272317</td>\n",
       "      <td>0.390983</td>\n",
       "      <td>0.402450</td>\n",
       "      <td>0.253135</td>\n",
       "      <td>0.366298</td>\n",
       "      <td>0.248671</td>\n",
       "      <td>...</td>\n",
       "      <td>0.260691</td>\n",
       "      <td>0.299330</td>\n",
       "      <td>0.286940</td>\n",
       "      <td>0.241965</td>\n",
       "      <td>0.353663</td>\n",
       "      <td>0.275008</td>\n",
       "      <td>0.202589</td>\n",
       "      <td>0.499707</td>\n",
       "      <td>0.454454</td>\n",
       "      <td>0.317471</td>\n",
       "    </tr>\n",
       "    <tr>\n",
       "      <th>max</th>\n",
       "      <td>0.483980</td>\n",
       "      <td>0.433104</td>\n",
       "      <td>0.333337</td>\n",
       "      <td>0.471955</td>\n",
       "      <td>0.380116</td>\n",
       "      <td>0.489177</td>\n",
       "      <td>0.538617</td>\n",
       "      <td>0.352285</td>\n",
       "      <td>0.466583</td>\n",
       "      <td>0.378796</td>\n",
       "      <td>...</td>\n",
       "      <td>0.492597</td>\n",
       "      <td>0.381826</td>\n",
       "      <td>0.500556</td>\n",
       "      <td>0.390292</td>\n",
       "      <td>0.465498</td>\n",
       "      <td>0.523538</td>\n",
       "      <td>0.441493</td>\n",
       "      <td>0.536099</td>\n",
       "      <td>0.598011</td>\n",
       "      <td>0.400785</td>\n",
       "    </tr>\n",
       "  </tbody>\n",
       "</table>\n",
       "<p>8 rows × 38 columns</p>\n",
       "</div>"
      ],
      "text/plain": [
       "              0          1          2          3          4          5   \\\n",
       "count  12.000000  12.000000  12.000000  12.000000  12.000000  12.000000   \n",
       "mean    0.243528   0.189966   0.212363   0.282957   0.212809   0.255240   \n",
       "std     0.116672   0.109344   0.092623   0.132177   0.090210   0.154864   \n",
       "min     0.108293   0.098795   0.097270   0.115612   0.126853   0.086041   \n",
       "25%     0.158071   0.117326   0.129043   0.185285   0.131561   0.104186   \n",
       "50%     0.228749   0.144080   0.204185   0.272431   0.181190   0.203457   \n",
       "75%     0.261951   0.215149   0.295807   0.405065   0.272317   0.390983   \n",
       "max     0.483980   0.433104   0.333337   0.471955   0.380116   0.489177   \n",
       "\n",
       "              6          7          8          9     ...             28  \\\n",
       "count  12.000000  12.000000  12.000000  12.000000    ...      12.000000   \n",
       "mean    0.281807   0.202025   0.240838   0.163296    ...       0.222278   \n",
       "std     0.148357   0.085100   0.140247   0.119284    ...       0.114716   \n",
       "min     0.095562   0.097141   0.056753   0.055652    ...       0.092950   \n",
       "25%     0.179792   0.135010   0.131953   0.077737    ...       0.153069   \n",
       "50%     0.262026   0.191680   0.200469   0.103077    ...       0.187953   \n",
       "75%     0.402450   0.253135   0.366298   0.248671    ...       0.260691   \n",
       "max     0.538617   0.352285   0.466583   0.378796    ...       0.492597   \n",
       "\n",
       "              29         30         31         32         33         34  \\\n",
       "count  12.000000  12.000000  12.000000  12.000000  12.000000  12.000000   \n",
       "mean    0.215757   0.210436   0.156597   0.236310   0.228954   0.182728   \n",
       "std     0.091770   0.136980   0.111412   0.149039   0.150680   0.106884   \n",
       "min     0.102719   0.056420   0.027204   0.072647   0.092808   0.078768   \n",
       "25%     0.148195   0.102678   0.071636   0.120058   0.136062   0.118100   \n",
       "50%     0.175713   0.174491   0.121313   0.180470   0.149841   0.150124   \n",
       "75%     0.299330   0.286940   0.241965   0.353663   0.275008   0.202589   \n",
       "max     0.381826   0.500556   0.390292   0.465498   0.523538   0.441493   \n",
       "\n",
       "              35         36         37  \n",
       "count  12.000000  12.000000  12.000000  \n",
       "mean    0.296736   0.324850   0.212092  \n",
       "std     0.196066   0.187832   0.128217  \n",
       "min     0.041258   0.028125   0.039849  \n",
       "25%     0.143748   0.165851   0.107745  \n",
       "50%     0.228281   0.369561   0.177477  \n",
       "75%     0.499707   0.454454   0.317471  \n",
       "max     0.536099   0.598011   0.400785  \n",
       "\n",
       "[8 rows x 38 columns]"
      ]
     },
     "execution_count": 89,
     "metadata": {},
     "output_type": "execute_result"
    }
   ],
   "source": [
    "pd.DataFrame(rejec_by_class).describe()"
   ]
  },
  {
   "cell_type": "markdown",
   "metadata": {},
   "source": [
    "### Visualisation des résidus pour les exemples où l'algorithme se trompe"
   ]
  },
  {
   "cell_type": "markdown",
   "metadata": {},
   "source": [
    "Choix de l'élément mal classifié #j à étudier"
   ]
  },
  {
   "cell_type": "code",
   "execution_count": 114,
   "metadata": {
    "collapsed": true
   },
   "outputs": [],
   "source": [
    "j = 2"
   ]
  },
  {
   "cell_type": "markdown",
   "metadata": {},
   "source": [
    "Obtention des résidus"
   ]
  },
  {
   "cell_type": "code",
   "execution_count": 119,
   "metadata": {
    "collapsed": false
   },
   "outputs": [],
   "source": [
    "id_wrong_preds = np.where(preds[i_opt,:] != real_classes[i_opt,:])[0]\n",
    "#for i in id_wrong_preds:\n",
    "#    print find_class(i)\n",
    "\n",
    "y = Xtest[:,id_wrong_preds[j]]\n",
    "clf.fit(Xtrain,y)\n",
    "x = clf.coef_\n",
    "\n",
    "# On fait la prédiction\n",
    "residus_cur = residu(y,Xtrain,x,ytrain)\n",
    "rejections_cur = SCI(x,ytrain)"
   ]
  },
  {
   "cell_type": "markdown",
   "metadata": {},
   "source": [
    "Affichage des résidus"
   ]
  },
  {
   "cell_type": "code",
   "execution_count": 120,
   "metadata": {
    "collapsed": false
   },
   "outputs": [
    {
     "data": {
      "text/plain": [
       "<matplotlib.text.Text at 0x11d755f50>"
      ]
     },
     "execution_count": 120,
     "metadata": {},
     "output_type": "execute_result"
    },
    {
     "data": {
      "image/png": "[encoded data removed]",
      "text/plain": [
       "<matplotlib.figure.Figure at 0x11e0826d0>"
      ]
     },
     "metadata": {},
     "output_type": "display_data"
    }
   ],
   "source": [
    "plt.figure()\n",
    "plt.clf()\n",
    "plt.bar(range(38),residus_cur)\n",
    "plt.title('Real class : ' + str(find_class(id_wrong_preds[j])) + ', coeff rejection ' + str(np.round(rejections_cur,2)))"
   ]
  },
  {
   "cell_type": "markdown",
   "metadata": {},
   "source": [
    "On peut observer les différents résidus pour les mauvais éléments en changeant la valeur de j. On voit que souvent (cas j = 2 par exemple), la vraie classe n'était pas très loin !"
   ]
  },
  {
   "cell_type": "markdown",
   "metadata": {},
   "source": [
    "** Visualisation des images mal classifiées **"
   ]
  },
  {
   "cell_type": "code",
   "execution_count": null,
   "metadata": {
    "collapsed": true
   },
   "outputs": [],
   "source": []
  },
  {
   "cell_type": "code",
   "execution_count": null,
   "metadata": {
    "collapsed": true
   },
   "outputs": [],
   "source": []
  },
  {
   "cell_type": "code",
   "execution_count": null,
   "metadata": {
    "collapsed": true
   },
   "outputs": [],
   "source": []
  },
  {
   "cell_type": "markdown",
   "metadata": {},
   "source": [
    "##### Partie utilisée pour sauvegarder les résultats des simulations"
   ]
  },
  {
   "cell_type": "markdown",
   "metadata": {
    "collapsed": true
   },
   "source": [
    "import pandas as pd"
   ]
  },
  {
   "cell_type": "markdown",
   "metadata": {
    "collapsed": true
   },
   "source": [
    "df_preds = pd.DataFrame(data=np.asarray(preds))\n",
    "df_rejec = pd.DataFrame(data=np.asarray(rejections))"
   ]
  },
  {
   "cell_type": "markdown",
   "metadata": {},
   "source": [
    "df_preds.to_csv('csv_saved/preds0.csv')\n",
    "df_rejec.to_csv('csv_saved/rejec0.csv')"
   ]
  },
  {
   "cell_type": "code",
   "execution_count": null,
   "metadata": {
    "collapsed": true
   },
   "outputs": [],
   "source": []
  }
 ],
 "metadata": {
  "anaconda-cloud": {},
  "kernelspec": {
   "display_name": "Python [default]",
   "language": "python",
   "name": "python2"
  },
  "language_info": {
   "codemirror_mode": {
    "name": "ipython",
    "version": 2
   },
   "file_extension": ".py",
   "mimetype": "text/x-python",
   "name": "python",
   "nbconvert_exporter": "python",
   "pygments_lexer": "ipython2",
   "version": "2.7.12"
  }
 },
 "nbformat": 4,
 "nbformat_minor": 1
}
