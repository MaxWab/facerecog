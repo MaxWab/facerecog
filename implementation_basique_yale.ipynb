{
 "cells": [
  {
   "cell_type": "markdown",
   "metadata": {
    "collapsed": true
   },
   "source": [
    "# Introduction "
   ]
  },
  {
   "cell_type": "markdown",
   "metadata": {},
   "source": [
    "Dans ce fichier nous allons mettre en place une implémentation basique de l'algorithme proposé dans l'article à étudier."
   ]
  },
  {
   "cell_type": "markdown",
   "metadata": {},
   "source": [
    "Nous allons pour l'instant étudier le dataset Extended Yale B.\n",
    "\n",
    "Les données sont présentes dans le dossier suivant : data/yale/"
   ]
  },
  {
   "cell_type": "markdown",
   "metadata": {},
   "source": [
    "# Imports "
   ]
  },
  {
   "cell_type": "code",
   "execution_count": 1,
   "metadata": {
    "collapsed": true
   },
   "outputs": [],
   "source": [
    "%matplotlib inline"
   ]
  },
  {
   "cell_type": "code",
   "execution_count": 144,
   "metadata": {
    "collapsed": false
   },
   "outputs": [],
   "source": [
    "import numpy as np\n",
    "from PIL import Image\n",
    "import os, sys\n",
    "import matplotlib.pyplot as plt\n",
    "from sklearn.preprocessing import normalize\n",
    "import time"
   ]
  },
  {
   "cell_type": "markdown",
   "metadata": {},
   "source": [
    "# Définition de fonctions utiles"
   ]
  },
  {
   "cell_type": "markdown",
   "metadata": {},
   "source": [
    "Définition de la fonction delta_i, indicatrice de la classe i."
   ]
  },
  {
   "cell_type": "code",
   "execution_count": 3,
   "metadata": {
    "collapsed": false
   },
   "outputs": [],
   "source": [
    "def delta(x,i,classs):\n",
    "    '''\n",
    "    fonction indicatrice de la classe i\n",
    "    '''\n",
    "    n,m = len(x),len(classs)\n",
    "    \n",
    "    if (n != m):\n",
    "        print 'vectors of differents sizes, cannot operate delta'\n",
    "        \n",
    "    tmp = i*np.ones(n)-classs\n",
    "\n",
    "    for k in range(n):\n",
    "        if tmp[k]==0:\n",
    "            tmp[k]=1\n",
    "        else:\n",
    "            tmp[k]=0 \n",
    "            \n",
    "    return tmp*x"
   ]
  },
  {
   "cell_type": "code",
   "execution_count": 4,
   "metadata": {
    "collapsed": false
   },
   "outputs": [
    {
     "name": "stdout",
     "output_type": "stream",
     "text": [
      "[ 0.  0.  0.  0.  0.  0.  0.  0.  0.  0.  0.  6.  6.  6.  0.]\n"
     ]
    }
   ],
   "source": [
    "a = [1,1,1,2,2,2,2,2,2,3,3,4,4,4,5]\n",
    "b = [6,6,6,6,6,6,6,6,6,6,6,6,6,6,6]\n",
    "\n",
    "print delta(b,4,a)"
   ]
  },
  {
   "cell_type": "markdown",
   "metadata": {},
   "source": [
    "Définition de la fonction de résidu qui renvoie la classe minimisant l'erreur de reconstruction suivant la norme L2."
   ]
  },
  {
   "cell_type": "code",
   "execution_count": 68,
   "metadata": {
    "collapsed": false
   },
   "outputs": [],
   "source": [
    "def residu(y,A,x,class_x):\n",
    "    '''\n",
    "    renvoie les residus pour chaque classe.\n",
    "    '''\n",
    "    k = np.max(class_x)\n",
    "    r = np.zeros(n)\n",
    "    \n",
    "    for i in range(0,k):\n",
    "        r[i] = np.linalg.norm(y - np.dot(A,delta(x,i,class_x)))\n",
    "        \n",
    "    return r"
   ]
  },
  {
   "cell_type": "code",
   "execution_count": 102,
   "metadata": {
    "collapsed": false
   },
   "outputs": [
    {
     "data": {
      "text/plain": [
       "34"
      ]
     },
     "execution_count": 102,
     "metadata": {},
     "output_type": "execute_result"
    }
   ],
   "source": [
    "a = residu(Xtest[:,411],Xtrain,x,ytrain)\n",
    "np.argmin(a)"
   ]
  },
  {
   "cell_type": "markdown",
   "metadata": {},
   "source": [
    "Définition de la fonction retournant l'indice de concentration (_Sparsity Concentration Index_)"
   ]
  },
  {
   "cell_type": "code",
   "execution_count": 57,
   "metadata": {
    "collapsed": false
   },
   "outputs": [],
   "source": [
    "def SCI(x,classs):\n",
    "    '''\n",
    "    @input\n",
    "      - classs: classe de chaque training element.\n",
    "      - x     : sparse coefficients\n",
    "    '''\n",
    "    \n",
    "    k = len(set(classs)) # Nombre de classes différentes\n",
    "    \n",
    "    # Puis on retourne la valeur du SCI\n",
    "    return (k*(1/np.linalg.norm(x,ord=1))*np.max([np.linalg.norm(delta(x,i,classs)) for i in range(k)]) - 1)/(k-1)\n",
    "    "
   ]
  },
  {
   "cell_type": "markdown",
   "metadata": {},
   "source": [
    "Utilitaire : fonction pour charger les fichiers"
   ]
  },
  {
   "cell_type": "code",
   "execution_count": 9,
   "metadata": {
    "collapsed": false
   },
   "outputs": [],
   "source": [
    "def read_images(path, sz=None): \n",
    "    '''\n",
    "    Chargement des données\n",
    "    Si spécifiée, réduction de dimensions incluse\n",
    "    '''\n",
    "    c=0\n",
    "    X,y = [], []\n",
    "    for dirname , dirnames , filenames in os.walk(path):\n",
    "        for subdirname in dirnames:\n",
    "            subject_path = os.path.join(dirname , subdirname) \n",
    "            for filename in os.listdir(subject_path):\n",
    "                try:\n",
    "                    im = Image.open(os.path.join(subject_path , filename)) \n",
    "                    im = im.convert(\"L\")\n",
    "                    # resize to given size (if given)\n",
    "                    if (sz is not None):\n",
    "                        im = im.resize(sz, Image.NEAREST)     \n",
    "                    X.append(np.asarray(im, dtype=np.uint8)) \n",
    "                    y.append(c)\n",
    "                except IOError:\n",
    "                    pass\n",
    "                except:\n",
    "                    print \"Unexpected error:\", sys.exc_info()[0] \n",
    "                    raise\n",
    "            c = c+1\n",
    "            print c\n",
    "    return [X,y]"
   ]
  },
  {
   "cell_type": "markdown",
   "metadata": {},
   "source": [
    "# Chargement des images "
   ]
  },
  {
   "cell_type": "code",
   "execution_count": 10,
   "metadata": {
    "collapsed": false
   },
   "outputs": [
    {
     "name": "stdout",
     "output_type": "stream",
     "text": [
      "1\n",
      "2\n",
      "3\n",
      "4\n",
      "5\n",
      "6\n",
      "7\n",
      "8\n",
      "9\n",
      "10\n",
      "11\n",
      "12\n",
      "13\n",
      "14\n",
      "15\n",
      "16\n",
      "17\n",
      "18\n",
      "19\n",
      "20\n",
      "21\n",
      "22\n",
      "23\n",
      "24\n",
      "25\n",
      "26\n",
      "27\n",
      "28\n",
      "29\n",
      "30\n",
      "31\n",
      "32\n",
      "33\n",
      "34\n",
      "35\n",
      "36\n",
      "37\n",
      "38\n"
     ]
    }
   ],
   "source": [
    "X, y = read_images('data/CroppedYale', sz=(12,10))"
   ]
  },
  {
   "cell_type": "markdown",
   "metadata": {},
   "source": [
    "Vérification qu'on a bien chargé les données des individus"
   ]
  },
  {
   "cell_type": "code",
   "execution_count": 11,
   "metadata": {
    "collapsed": false
   },
   "outputs": [
    {
     "data": {
      "text/plain": [
       "2470"
      ]
     },
     "execution_count": 11,
     "metadata": {},
     "output_type": "execute_result"
    }
   ],
   "source": [
    "len(X)"
   ]
  },
  {
   "cell_type": "markdown",
   "metadata": {},
   "source": [
    "Alright : on a bien chargé 585 images qui ont été fournies, par individu (note : les erreurs correspondent aux fichiers .info).\n",
    "\n",
    "*Rappel* : 64 illuminations par personne."
   ]
  },
  {
   "cell_type": "markdown",
   "metadata": {},
   "source": [
    "## Réduction de dimensions "
   ]
  },
  {
   "cell_type": "markdown",
   "metadata": {},
   "source": [
    "La réduction de dimensions est déjà inclue dans le chargement des images.\n",
    "\n",
    "De la même manière que dans l'article, nous réduisons la dimensions des images de ()"
   ]
  },
  {
   "cell_type": "markdown",
   "metadata": {},
   "source": [
    "## Retraitement du dataset "
   ]
  },
  {
   "cell_type": "markdown",
   "metadata": {},
   "source": [
    "Nous allons dans un premier temps supprimer toutes les images \"toutes noires\" (premières images pour chaque individu."
   ]
  },
  {
   "cell_type": "code",
   "execution_count": 12,
   "metadata": {
    "collapsed": false
   },
   "outputs": [],
   "source": [
    "X_new = []\n",
    "y_new = []\n",
    "\n",
    "for i in range(len(X)):\n",
    "    if i%65!=0:\n",
    "        X_new.append(X[i])\n",
    "        y_new.append(y[i])"
   ]
  },
  {
   "cell_type": "markdown",
   "metadata": {},
   "source": [
    "## Séparation du dataset en train et test "
   ]
  },
  {
   "cell_type": "markdown",
   "metadata": {},
   "source": [
    "A chaque personne sont associées 64 images stockées dans _X_new_ :\n",
    "\n",
    "* 29 images \"négatives\" (ex : yaleB01_P00A**-**005E-10)\n",
    "* 35 images \"positives\" (ex : yaleB01_P00A**+**050E-40)\n",
    "\n",
    "_Note :_ Une bonne partie des images est quasiment illisible (très mauvaise luminosité)\n",
    "\n",
    "Afin d'avoir un test set et un train set à peu près homogènes, on va prendre 12 images de test pour 52 images de train (~19% dans le test), soit :\n",
    "\n",
    "* 5 images \"négatives\"\n",
    "* 7 images \"positives\""
   ]
  },
  {
   "cell_type": "code",
   "execution_count": 13,
   "metadata": {
    "collapsed": true
   },
   "outputs": [],
   "source": [
    "X_train, X_test = [], []\n",
    "ytrain, ytest = [], []\n",
    "\n",
    "for i in range(len(X_new)):\n",
    "    if i%64==0:\n",
    "        # On compute les indices des éléments à placer dans le test, ils sont différents pour chaque image.\n",
    "        test1 = np.random.choice(28,5,replace=False)\n",
    "        test2 = 29 + np.random.choice(28,7,replace=False)\n",
    "    \n",
    "    # On crée X_test et X_train\n",
    "    if ((i%64 in test1) or (i%64 in test2)):\n",
    "        X_test.append(X_new[i])\n",
    "        ytest.append(y_new[i])\n",
    "    else:\n",
    "        X_train.append(X_new[i])\n",
    "        ytrain.append(y_new[i])"
   ]
  },
  {
   "cell_type": "markdown",
   "metadata": {
    "collapsed": true
   },
   "source": [
    "## Manipulation des matrices"
   ]
  },
  {
   "cell_type": "markdown",
   "metadata": {},
   "source": [
    "On déroule chaque image en un vecteur puis on les concatène."
   ]
  },
  {
   "cell_type": "code",
   "execution_count": 14,
   "metadata": {
    "collapsed": true
   },
   "outputs": [],
   "source": [
    "X_toconcat_train = [np.reshape(e,(120,1)) for e in X_train]\n",
    "X_toconcat_test = [np.reshape(e,(120,1)) for e in X_test]"
   ]
  },
  {
   "cell_type": "code",
   "execution_count": 15,
   "metadata": {
    "collapsed": false
   },
   "outputs": [],
   "source": [
    "Xtrain = np.concatenate(X_toconcat_train,axis=1)\n",
    "Xtest = np.concatenate(X_toconcat_test,axis=1) # Liste des samples du test, concaténés en colonne."
   ]
  },
  {
   "cell_type": "markdown",
   "metadata": {},
   "source": [
    "Vérification qu'on a la bonne taille"
   ]
  },
  {
   "cell_type": "code",
   "execution_count": 16,
   "metadata": {
    "collapsed": false
   },
   "outputs": [
    {
     "name": "stdout",
     "output_type": "stream",
     "text": [
      "('Taille du nouveau dataset', (120, 456))\n"
     ]
    }
   ],
   "source": [
    "print('Taille du nouveau dataset',Xtest.shape)"
   ]
  },
  {
   "cell_type": "markdown",
   "metadata": {},
   "source": [
    "C'est ok !"
   ]
  },
  {
   "cell_type": "markdown",
   "metadata": {},
   "source": [
    "# Implémentation de l'algorithme 1 "
   ]
  },
  {
   "cell_type": "code",
   "execution_count": 17,
   "metadata": {
    "collapsed": false
   },
   "outputs": [],
   "source": [
    "from sklearn.linear_model import Lasso"
   ]
  },
  {
   "cell_type": "markdown",
   "metadata": {},
   "source": [
    "On voit dans la littérature que cela revient à traiter le problème Lasso."
   ]
  },
  {
   "cell_type": "markdown",
   "metadata": {
    "collapsed": true
   },
   "source": [
    "D'abord on crée un vecteur d'$\\alpha_i$ à tester avec Lasso.\n",
    "\n",
    "Puisqu'on utilise la fonction Lasso il est nécessaire d'adapter nos $\\alpha_i$ à la dimension de $y$."
   ]
  },
  {
   "cell_type": "code",
   "execution_count": 138,
   "metadata": {
    "collapsed": true
   },
   "outputs": [],
   "source": [
    "alpha_vec = np.logspace(2,3,10)\n",
    "alpha_vec = alpha_vec/(Xtest.shape[0])"
   ]
  },
  {
   "cell_type": "markdown",
   "metadata": {},
   "source": [
    "Puis on utilise Lasso pour trouver la solution à notre problème."
   ]
  },
  {
   "cell_type": "code",
   "execution_count": 128,
   "metadata": {
    "collapsed": false
   },
   "outputs": [],
   "source": [
    "#for i, alpha in enumerate(alpha_vec):\n",
    "\n",
    "testval = 22\n",
    "\n",
    "clf = Lasso(alpha=alpha_vec[8]) #on prend l'alpha courant\n",
    "clf.fit(Xtrain,Xtest[:,testval])\n",
    "x = clf.coef_"
   ]
  },
  {
   "cell_type": "markdown",
   "metadata": {},
   "source": [
    "** Affichage des résultats **"
   ]
  },
  {
   "cell_type": "code",
   "execution_count": 126,
   "metadata": {
    "collapsed": false
   },
   "outputs": [
    {
     "name": "stdout",
     "output_type": "stream",
     "text": [
      "Classe réelle:  1\n",
      "Classe prédite:  1\n",
      "Rejection:  0.125383844089\n"
     ]
    }
   ],
   "source": [
    "print \"Classe réelle: \", ytest[testval]\n",
    "print \"Classe prédite: \",np.argmin(residu(Xtest[:,testval],Xtrain,x,ytrain))\n",
    "print \"Rejection: \", SCI(x,ytrain)"
   ]
  },
  {
   "cell_type": "code",
   "execution_count": 127,
   "metadata": {
    "collapsed": false
   },
   "outputs": [
    {
     "data": {
      "text/plain": [
       "<matplotlib.text.Text at 0x157728950>"
      ]
     },
     "execution_count": 127,
     "metadata": {},
     "output_type": "execute_result"
    },
    {
     "data": {
      "image/png": "[encoded data removed]",
      "text/plain": [
       "<matplotlib.figure.Figure at 0x157692350>"
      ]
     },
     "metadata": {},
     "output_type": "display_data"
    }
   ],
   "source": [
    "plt.figure()\n",
    "plt.stem(x)\n",
    "plt.title('classe reelle: ' + str(ytest[testval]))"
   ]
  },
  {
   "cell_type": "markdown",
   "metadata": {},
   "source": [
    "Avantage : meilleure interprétabilité des résultats : on sait où il y a des erreurs et pourquoi il y a des erreurs."
   ]
  },
  {
   "cell_type": "markdown",
   "metadata": {
    "collapsed": true
   },
   "source": [
    "### Reconstruction de l'image"
   ]
  },
  {
   "cell_type": "code",
   "execution_count": null,
   "metadata": {
    "collapsed": true
   },
   "outputs": [],
   "source": []
  },
  {
   "cell_type": "code",
   "execution_count": null,
   "metadata": {
    "collapsed": true
   },
   "outputs": [],
   "source": []
  },
  {
   "cell_type": "code",
   "execution_count": null,
   "metadata": {
    "collapsed": true
   },
   "outputs": [],
   "source": []
  },
  {
   "cell_type": "code",
   "execution_count": null,
   "metadata": {
    "collapsed": true
   },
   "outputs": [],
   "source": []
  },
  {
   "cell_type": "markdown",
   "metadata": {},
   "source": [
    "### Performance sans rejection"
   ]
  },
  {
   "cell_type": "markdown",
   "metadata": {},
   "source": [
    "On va regarder la précision de notre algorithme pour différents lambda.\n",
    "\n",
    "La métrique sera le _pourcentage de bonne classification_."
   ]
  },
  {
   "cell_type": "code",
   "execution_count": 155,
   "metadata": {
    "collapsed": false
   },
   "outputs": [
    {
     "name": "stdout",
     "output_type": "stream",
     "text": [
      "Coefficient de régularisation:  0.833333333333\n",
      "Boucle # 1 / 10\n",
      "0 exemples traités en 0.273775100708 s\n",
      "50 exemples traités en 15.2376441956 s\n",
      "100 exemples traités en 32.5231420994 s\n",
      "150 exemples traités en 45.9040651321 s\n",
      "200 exemples traités en 59.2740650177 s\n",
      "250 exemples traités en 72.5607950687 s\n",
      "300 exemples traités en 86.7037630081 s\n",
      "350 exemples traités en 99.9445650578 s\n",
      "400 exemples traités en 112.464782 s\n",
      "450 exemples traités en 124.55638504 s\n",
      "Temps écoulé pour la boucle :  125.723991156\n",
      "Coefficient de régularisation:  1.07629138751\n",
      "Boucle # 2 / 10\n",
      "0 exemples traités en 0.233379125595 s\n",
      "50 exemples traités en 12.681718111 s\n",
      "100 exemples traités en 24.5213010311 s\n",
      "150 exemples traités en 37.3608541489 s\n",
      "200 exemples traités en 50.8683841228 s\n",
      "250 exemples traités en 63.3426260948 s\n",
      "300 exemples traités en 74.4812002182 s\n",
      "350 exemples traités en 87.0840051174 s\n",
      "400 exemples traités en 99.787348032 s\n",
      "450 exemples traités en 111.543987036 s\n",
      "Temps écoulé pour la boucle :  112.639750004\n",
      "Coefficient de régularisation:  1.390083781\n",
      "Boucle # 3 / 10\n",
      "0 exemples traités en 0.215717077255 s\n",
      "50 exemples traités en 11.677489996 s\n",
      "100 exemples traités en 22.3070011139 s\n",
      "150 exemples traités en 32.9218630791 s\n",
      "200 exemples traités en 43.1740961075 s\n",
      "250 exemples traités en 54.2383160591 s\n",
      "300 exemples traités en 64.7692680359 s\n",
      "350 exemples traités en 75.7545180321 s\n",
      "400 exemples traités en 86.408244133 s\n",
      "450 exemples traités en 98.6637101173 s\n",
      "Temps écoulé pour la boucle :  100.195353031\n",
      "Coefficient de régularisation:  1.79536224169\n",
      "Boucle # 4 / 10\n",
      "0 exemples traités en 0.276930809021 s\n",
      "50 exemples traités en 11.3523609638 s\n",
      "100 exemples traités en 22.5524008274 s\n",
      "150 exemples traités en 33.7051689625 s\n",
      "200 exemples traités en 44.5361149311 s\n",
      "250 exemples traités en 55.6394648552 s\n",
      "300 exemples traités en 66.2047839165 s\n",
      "350 exemples traités en 77.9437990189 s\n",
      "400 exemples traités en 94.7501637936 s\n",
      "450 exemples traités en 107.011343956 s\n",
      "Temps écoulé pour la boucle :  108.366837978\n",
      "Coefficient de régularisation:  2.31879950184\n",
      "Boucle # 5 / 10\n",
      "0 exemples traités en 0.231257915497 s\n",
      "50 exemples traités en 12.6026279926 s\n",
      "100 exemples traités en 24.4411449432 s\n",
      "150 exemples traités en 37.7883520126 s\n",
      "200 exemples traités en 48.5794739723 s\n",
      "250 exemples traités en 60.0996069908 s\n",
      "300 exemples traités en 71.9124550819 s\n",
      "350 exemples traités en 84.700936079 s\n",
      "400 exemples traités en 95.7006559372 s\n",
      "450 exemples traités en 106.811919928 s\n",
      "Temps écoulé pour la boucle :  108.107287884\n",
      "Coefficient de régularisation:  2.99484471984\n",
      "Boucle # 6 / 10\n",
      "0 exemples traités en 0.215588092804 s\n",
      "50 exemples traités en 12.2301249504 s\n",
      "100 exemples traités en 22.5394339561 s\n",
      "150 exemples traités en 33.6348760128 s\n",
      "200 exemples traités en 48.6910469532 s\n",
      "250 exemples traités en 59.8534679413 s\n",
      "300 exemples traités en 71.6134870052 s\n",
      "350 exemples traités en 83.5163471699 s\n",
      "400 exemples traités en 95.1834011078 s\n",
      "450 exemples traités en 107.869488001 s\n",
      "Temps écoulé pour la boucle :  109.039221048\n",
      "Coefficient de régularisation:  3.86799069468\n",
      "Boucle # 7 / 10\n",
      "0 exemples traités en 0.196455001831 s\n",
      "50 exemples traités en 10.7595710754 s\n",
      "100 exemples traités en 22.5833690166 s\n",
      "150 exemples traités en 33.8508780003 s\n",
      "200 exemples traités en 45.0109300613 s\n",
      "250 exemples traités en 56.3748981953 s\n",
      "300 exemples traités en 68.4478650093 s\n",
      "350 exemples traités en 79.8052539825 s\n",
      "400 exemples traités en 90.9440670013 s\n",
      "450 exemples traités en 104.812362194 s\n",
      "Temps écoulé pour la boucle :  106.330214024\n",
      "Coefficient de régularisation:  4.99570208599\n",
      "Boucle # 8 / 10\n",
      "0 exemples traités en 0.212665081024 s\n",
      "50 exemples traités en 12.7653470039 s\n",
      "100 exemples traités en 26.8498799801 s\n",
      "150 exemples traités en 39.1923091412 s\n",
      "200 exemples traités en 49.8356151581 s\n",
      "250 exemples traités en 61.5348310471 s\n",
      "300 exemples traités en 72.3994841576 s\n",
      "350 exemples traités en 84.2010970116 s\n",
      "400 exemples traités en 95.2720761299 s\n",
      "450 exemples traités en 107.150020123 s\n",
      "Temps écoulé pour la boucle :  108.576836109\n",
      "Coefficient de régularisation:  6.45219735568\n",
      "Boucle # 9 / 10\n",
      "0 exemples traités en 0.203222990036 s\n",
      "50 exemples traités en 10.5253169537 s\n",
      "100 exemples traités en 19.9189658165 s\n",
      "150 exemples traités en 29.1196279526 s\n",
      "200 exemples traités en 38.2520270348 s\n",
      "250 exemples traités en 47.4393358231 s\n",
      "300 exemples traités en 56.4872579575 s\n",
      "350 exemples traités en 66.1530668736 s\n",
      "400 exemples traités en 75.1741888523 s\n",
      "450 exemples traités en 84.1878190041 s\n",
      "Temps écoulé pour la boucle :  85.1372408867\n",
      "Coefficient de régularisation:  8.33333333333\n",
      "Boucle # 10 / 10\n",
      "0 exemples traités en 0.174669981003 s\n",
      "50 exemples traités en 9.14799904823 s\n",
      "100 exemples traités en 18.1097910404 s\n",
      "150 exemples traités en 27.5783240795 s\n",
      "200 exemples traités en 40.5311920643 s\n",
      "250 exemples traités en 50.29626894 s\n",
      "300 exemples traités en 61.5849449635 s\n",
      "350 exemples traités en 73.9093940258 s\n",
      "400 exemples traités en 84.1787741184 s\n",
      "450 exemples traités en 93.5484850407 s\n",
      "Temps écoulé pour la boucle :  94.6123020649\n"
     ]
    }
   ],
   "source": [
    "# Rappel : \n",
    "# * y : Elément à tester (est une colonne de Xtest)\n",
    "# * Xtrain : Matrice A des exemples d'entrainement\n",
    "# * x : coefficients issus de la minimisation LASSO\n",
    "# * ytrain : classe des exemples d'entrainement\n",
    "\n",
    "preds = np.zeros((len(alpha_vec),Xtest.shape[1]))\n",
    "\n",
    "for i, alpha in enumerate(alpha_vec):\n",
    "    t = time.time()\n",
    "    print \"Coefficient de régularisation: \", alpha\n",
    "    print \"Boucle #\",i+1,\"/\",len(alpha_vec)\n",
    "    clf = Lasso(alpha=alpha) # on crée un modèle avec l'alpha courant\n",
    "    for j in range(Xtest.shape[1]):\n",
    "        # Pour chaque exemple à tester on génère les coefficients et on prend la meilleure prédiction\n",
    "        y = Xtest[:,testval]\n",
    "        clf.fit(Xtrain,y)\n",
    "        x = clf.coef_\n",
    "        \n",
    "        # On fait la prédiction\n",
    "        preds[i,j] = np.argmin(residu(y,Xtrain,x,ytrain))    \n",
    "        \n",
    "        # Affichage d'un message pour suivre l'avancement de l'algorithme\n",
    "        \n",
    "        if (j%50 == 0):\n",
    "            print j, \"exemples traités en\",time.time() - t ,\"s\"\n",
    "        \n",
    "    print \"Temps écoulé pour la boucle : \", time.time() - t"
   ]
  },
  {
   "cell_type": "markdown",
   "metadata": {},
   "source": [
    "On remarque que l'entrainement est spécialement long puisqu'on doit réentrainer un classifieur pour chaque exemple !\n",
    "\n",
    "Mais c'est parallélisable"
   ]
  },
  {
   "cell_type": "markdown",
   "metadata": {},
   "source": [
    "On calcule maintenant la précision pour chaque lambda"
   ]
  },
  {
   "cell_type": "code",
   "execution_count": 156,
   "metadata": {
    "collapsed": false
   },
   "outputs": [],
   "source": [
    "# Définition des classes réelles\n",
    "real_classes = np.reshape(ytest*len(alpha_vec),(len(alpha_vec),len(ytest)))\n",
    "\n",
    "# Evaluation de la précision\n",
    "\n",
    "precision = 100*np.sum(preds == real_classes,axis=1)/len(ytest)"
   ]
  },
  {
   "cell_type": "code",
   "execution_count": 164,
   "metadata": {
    "collapsed": false
   },
   "outputs": [
    {
     "data": {
      "text/plain": [
       "1.0"
      ]
     },
     "execution_count": 164,
     "metadata": {},
     "output_type": "execute_result"
    }
   ],
   "source": [
    "preds[5,7]"
   ]
  },
  {
   "cell_type": "markdown",
   "metadata": {},
   "source": [
    "**Affichage des résultats**"
   ]
  },
  {
   "cell_type": "code",
   "execution_count": 159,
   "metadata": {
    "collapsed": false
   },
   "outputs": [
    {
     "data": {
      "text/plain": [
       "<matplotlib.text.Text at 0x15bdd0290>"
      ]
     },
     "execution_count": 159,
     "metadata": {},
     "output_type": "execute_result"
    },
    {
     "data": {
      "image/png": "[encoded data removed]",
      "text/plain": [
       "<matplotlib.figure.Figure at 0x15bbf0490>"
      ]
     },
     "metadata": {},
     "output_type": "display_data"
    }
   ],
   "source": [
    "plt.figure()\n",
    "plt.clf()\n",
    "plt.plot(alpha_vec,precision)\n",
    "plt.title('Evolution de la precision en fonction de $\\lambda$')"
   ]
  },
  {
   "cell_type": "code",
   "execution_count": null,
   "metadata": {
    "collapsed": true
   },
   "outputs": [],
   "source": []
  },
  {
   "cell_type": "code",
   "execution_count": null,
   "metadata": {
    "collapsed": true
   },
   "outputs": [],
   "source": []
  }
 ],
 "metadata": {
  "anaconda-cloud": {},
  "kernelspec": {
   "display_name": "Python [conda root]",
   "language": "python",
   "name": "conda-root-py"
  },
  "language_info": {
   "codemirror_mode": {
    "name": "ipython",
    "version": 2
   },
   "file_extension": ".py",
   "mimetype": "text/x-python",
   "name": "python",
   "nbconvert_exporter": "python",
   "pygments_lexer": "ipython2",
   "version": "2.7.12"
  }
 },
 "nbformat": 4,
 "nbformat_minor": 1
}
