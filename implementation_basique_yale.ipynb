{
 "cells": [
  {
   "cell_type": "markdown",
   "metadata": {
    "collapsed": true
   },
   "source": [
    "# Introduction "
   ]
  },
  {
   "cell_type": "markdown",
   "metadata": {},
   "source": [
    "Dans ce fichier nous allons mettre en place une implémentation basique de l'algorithme proposé dans l'article à étudier."
   ]
  },
  {
   "cell_type": "markdown",
   "metadata": {},
   "source": [
    "Nous allons pour l'instant étudier le dataset Extended Yale B.\n",
    "\n",
    "Les données sont présentes dans le dossier suivant : data/CroppedYale/"
   ]
  },
  {
   "cell_type": "markdown",
   "metadata": {},
   "source": [
    "# Utilisation du notebook "
   ]
  },
  {
   "cell_type": "markdown",
   "metadata": {},
   "source": [
    "Ce notebook reprend notre implémentation de l'article. Afin de pouvoir générer les résultats (et de changer la fenêtre d'étude) il est possible de change certaines variables. Nous les indiquerons auparavant."
   ]
  },
  {
   "cell_type": "markdown",
   "metadata": {},
   "source": [
    "### TODO"
   ]
  },
  {
   "cell_type": "markdown",
   "metadata": {},
   "source": [
    "* Pouvoir charger des images automatiquement à partir de l'id\n",
    "* Reconstruction d'une image à partir des coefficients et comparaison à l'image originale."
   ]
  },
  {
   "cell_type": "markdown",
   "metadata": {},
   "source": [
    "# Imports "
   ]
  },
  {
   "cell_type": "code",
   "execution_count": 1,
   "metadata": {
    "collapsed": true
   },
   "outputs": [],
   "source": [
    "%matplotlib inline"
   ]
  },
  {
   "cell_type": "code",
   "execution_count": 2,
   "metadata": {
    "collapsed": false
   },
   "outputs": [],
   "source": [
    "import numpy as np\n",
    "from PIL import Image\n",
    "import os, sys\n",
    "import matplotlib.pyplot as plt\n",
    "from sklearn.preprocessing import normalize\n",
    "import time\n",
    "import random"
   ]
  },
  {
   "cell_type": "code",
   "execution_count": 3,
   "metadata": {
    "collapsed": true
   },
   "outputs": [],
   "source": [
    "random.seed(2017)"
   ]
  },
  {
   "cell_type": "markdown",
   "metadata": {},
   "source": [
    "# Définition de fonctions utiles"
   ]
  },
  {
   "cell_type": "markdown",
   "metadata": {},
   "source": [
    "Définition de la fonction delta_i, indicatrice de la classe i."
   ]
  },
  {
   "cell_type": "code",
   "execution_count": 4,
   "metadata": {
    "collapsed": false
   },
   "outputs": [],
   "source": [
    "def delta(x,i,classs):\n",
    "    '''\n",
    "    fonction indicatrice de la classe i\n",
    "    '''\n",
    "    n,m = len(x),len(classs)\n",
    "    \n",
    "    if (n != m):\n",
    "        print 'vectors of differents sizes, cannot operate delta'\n",
    "        \n",
    "    tmp = i*np.ones(n)-classs\n",
    "\n",
    "    for k in range(n):\n",
    "        if tmp[k]==0:\n",
    "            tmp[k]=1\n",
    "        else:\n",
    "            tmp[k]=0 \n",
    "            \n",
    "    return tmp*x"
   ]
  },
  {
   "cell_type": "markdown",
   "metadata": {},
   "source": [
    "Définition de la fonction de résidu qui renvoie la classe minimisant l'erreur de reconstruction suivant la norme L2."
   ]
  },
  {
   "cell_type": "code",
   "execution_count": 5,
   "metadata": {
    "collapsed": false
   },
   "outputs": [],
   "source": [
    "def residu(y,A,x,class_x):\n",
    "    '''\n",
    "    renvoie les residus pour chaque classe.\n",
    "    '''\n",
    "    k = np.max(class_x)+1\n",
    "    r = np.zeros(k)\n",
    "    \n",
    "    for i in range(0,k):\n",
    "        r[i] = np.linalg.norm(y - np.dot(A,delta(x,i,class_x)))\n",
    "        \n",
    "    return r"
   ]
  },
  {
   "cell_type": "markdown",
   "metadata": {},
   "source": [
    "Définition de la fonction retournant l'indice de concentration (_Sparsity Concentration Index_)"
   ]
  },
  {
   "cell_type": "code",
   "execution_count": 6,
   "metadata": {
    "collapsed": false
   },
   "outputs": [],
   "source": [
    "def SCI(x,classs):\n",
    "    '''\n",
    "    @input\n",
    "      - classs: classe de chaque training element.\n",
    "      - x     : sparse coefficients\n",
    "    '''\n",
    "    \n",
    "    k = len(set(classs)) # Nombre de classes différentes\n",
    "    \n",
    "    # Puis on retourne la valeur du SCI\n",
    "    return (k*(1/np.linalg.norm(x,ord=1))*np.max([np.linalg.norm(delta(x,i,classs),ord=1) for i in range(k)]) - 1)/(k-1)\n",
    "    "
   ]
  },
  {
   "cell_type": "markdown",
   "metadata": {},
   "source": [
    "**Utilitaire** : trouver la classe d'un élément du test set pour le Yale Database"
   ]
  },
  {
   "cell_type": "code",
   "execution_count": 7,
   "metadata": {
    "collapsed": true
   },
   "outputs": [],
   "source": [
    "def find_class(i):\n",
    "    return int(i)/12"
   ]
  },
  {
   "cell_type": "markdown",
   "metadata": {},
   "source": [
    "**Utilitaire** : fonction pour charger les fichiers"
   ]
  },
  {
   "cell_type": "code",
   "execution_count": 8,
   "metadata": {
    "collapsed": false
   },
   "outputs": [],
   "source": [
    "def read_images(path, sz=None): \n",
    "    '''\n",
    "    Chargement des données\n",
    "    Si spécifiée, réduction de dimensions incluse\n",
    "    '''\n",
    "    c=0\n",
    "    X,y = [], []\n",
    "    for dirname , dirnames , filenames in os.walk(path):\n",
    "        for subdirname in dirnames:\n",
    "            subject_path = os.path.join(dirname , subdirname) \n",
    "            for filename in os.listdir(subject_path):\n",
    "                try:\n",
    "                    im = Image.open(os.path.join(subject_path , filename)) \n",
    "                    im = im.convert(\"L\")\n",
    "                    # resize to given size (if given)\n",
    "                    if (sz is not None):\n",
    "                        im = im.resize(sz, Image.NEAREST)     \n",
    "                    X.append(np.asarray(im, dtype=np.uint8)) \n",
    "                    y.append(c)\n",
    "                except IOError:\n",
    "                    pass\n",
    "                except:\n",
    "                    print \"Unexpected error:\", sys.exc_info()[0] \n",
    "                    raise\n",
    "            c = c+1\n",
    "            print c\n",
    "    return [X,y]"
   ]
  },
  {
   "cell_type": "markdown",
   "metadata": {},
   "source": [
    "Définition de la fonction qui ajoute un cadre noir sur une image"
   ]
  },
  {
   "cell_type": "code",
   "execution_count": 9,
   "metadata": {
    "collapsed": false
   },
   "outputs": [],
   "source": [
    "def black_frame(array_orig, x0, x1, y0, y1):\n",
    "    '''\n",
    "    Ajoute un bandeau noir dont les coins sont de coordonnées (x0,y0),(x1,y1),(x0,y1) et (x1,y0)\n",
    "    '''\n",
    "    array_tmp = np.ones_like(array_orig)\n",
    "    \n",
    "    if ((x0 > array_tmp.shape[1]) | (x1 > array_tmp.shape[1]) | (y0 > array_tmp.shape[0]) | (y1 > array_tmp.shape[0])):\n",
    "        print \"Error : coordonnees du bandeau trop grandes pour l'image\"\n",
    "    \n",
    "    for i in range(array_tmp.shape[1]):\n",
    "        for j in range(array_tmp.shape[0]):\n",
    "            if ((i >= min(x0,x1)) & (i <= max(x0,x1)) & (j >= min(y0,y1)) & (j <= max(y0,y1))):\n",
    "                array_tmp[j][i] = 0\n",
    "    \n",
    "    return array_tmp*array_orig"
   ]
  },
  {
   "cell_type": "markdown",
   "metadata": {},
   "source": [
    "# Chargement des images "
   ]
  },
  {
   "cell_type": "markdown",
   "metadata": {},
   "source": [
    "** Choix du mode de réduction de features **"
   ]
  },
  {
   "cell_type": "markdown",
   "metadata": {},
   "source": [
    "Modes de réduction de dimension :\n",
    "\n",
    "* reduced_fs_dimension : réduction de dimension classique\n",
    "* fisherfaces\n",
    "* eigenfaces\n",
    "* randomfaces"
   ]
  },
  {
   "cell_type": "code",
   "execution_count": 130,
   "metadata": {
    "collapsed": false,
    "scrolled": true
   },
   "outputs": [
    {
     "name": "stdout",
     "output_type": "stream",
     "text": [
      "('R\\xc3\\xa9duction de features choisie : ', 'reduced_fs_dimension')\n"
     ]
    }
   ],
   "source": [
    "mode_reduc_features = 'reduced_fs_dimension'\n",
    "size_features = (12,10) # Egalement utilisé plus bas !\n",
    "n_components = size_features[0]*size_features[1]\n",
    "\n",
    "print(\"Réduction de features choisie : \", mode_reduc_features)"
   ]
  },
  {
   "cell_type": "markdown",
   "metadata": {},
   "source": [
    "** Chargement des images **"
   ]
  },
  {
   "cell_type": "code",
   "execution_count": 131,
   "metadata": {
    "collapsed": false
   },
   "outputs": [
    {
     "name": "stdout",
     "output_type": "stream",
     "text": [
      "1\n",
      "2\n",
      "3\n",
      "4\n",
      "5\n",
      "6\n",
      "7\n",
      "8\n",
      "9\n",
      "10\n",
      "11\n",
      "12\n",
      "13\n",
      "14\n",
      "15\n",
      "16\n",
      "17\n",
      "18\n",
      "19\n",
      "20\n",
      "21\n",
      "22\n",
      "23\n",
      "24\n",
      "25\n",
      "26\n",
      "27\n",
      "28\n",
      "29\n",
      "30\n",
      "31\n",
      "32\n",
      "33\n",
      "34\n",
      "35\n",
      "36\n",
      "37\n",
      "38\n"
     ]
    }
   ],
   "source": [
    "if ((mode_reduc_features == 'reduced_fs_dimension') & (size_features != None)):\n",
    "    X, y = read_images('data/CroppedYale', sz=size_features)\n",
    "elif ((mode_reduc_features != 'reduced_fs_dimension') & (mode_reduc_features != None)):\n",
    "    X, y = read_images('data/CroppedYale', sz=None)\n",
    "else :\n",
    "    X, y = read_images('data/CroppedYale', sz=(12,10))"
   ]
  },
  {
   "cell_type": "markdown",
   "metadata": {},
   "source": [
    "Vérification qu'on a bien chargé les données des individus"
   ]
  },
  {
   "cell_type": "code",
   "execution_count": 132,
   "metadata": {
    "collapsed": false
   },
   "outputs": [
    {
     "name": "stdout",
     "output_type": "stream",
     "text": [
      "Nombre d'éléments chargés  2470\n"
     ]
    }
   ],
   "source": [
    "print \"Nombre d'éléments chargés \",len(X)"
   ]
  },
  {
   "cell_type": "markdown",
   "metadata": {},
   "source": [
    "Alright : on a bien chargé 64 images qui ont été fournies, par individu (plusieurs illuminations)"
   ]
  },
  {
   "cell_type": "markdown",
   "metadata": {},
   "source": [
    "## Retraitement du dataset "
   ]
  },
  {
   "cell_type": "markdown",
   "metadata": {},
   "source": [
    "Nous allons dans un premier temps supprimer toutes les images \"toutes noires\" (premières images pour chaque individu, indiquées par le libellé \"ambient\"."
   ]
  },
  {
   "cell_type": "code",
   "execution_count": 133,
   "metadata": {
    "collapsed": false
   },
   "outputs": [],
   "source": [
    "X_new = []\n",
    "y_new = []\n",
    "\n",
    "for i in range(len(X)):\n",
    "    if i%65!=0:\n",
    "        X_new.append(X[i])\n",
    "        y_new.append(y[i])"
   ]
  },
  {
   "cell_type": "markdown",
   "metadata": {},
   "source": [
    "## Séparation du dataset en train et test "
   ]
  },
  {
   "cell_type": "markdown",
   "metadata": {},
   "source": [
    "A chaque personne sont associées 64 images stockées dans _X_new_ :\n",
    "\n",
    "* 29 images \"négatives\" (ex : yaleB01_P00A**-**005E-10)\n",
    "* 35 images \"positives\" (ex : yaleB01_P00A**+**050E-40)\n",
    "\n",
    "_Note :_ Une bonne partie des images est quasiment illisible (très mauvaise luminosité)\n",
    "\n",
    "Afin d'avoir un test set et un train set à peu près homogènes, on va prendre 12 images de test pour 52 images de train (~19% dans le test), soit :\n",
    "\n",
    "* 5 images \"négatives\"\n",
    "* 7 images \"positives\""
   ]
  },
  {
   "cell_type": "code",
   "execution_count": 134,
   "metadata": {
    "collapsed": true
   },
   "outputs": [],
   "source": [
    "X_train, X_test = [], []\n",
    "ytrain, ytest = [], []\n",
    "indices_train, indices_test = [], []\n",
    "\n",
    "for i in range(len(X_new)):\n",
    "    if i%64==0:\n",
    "        # On compute les indices des éléments à placer dans le test, ils sont différents pour chaque image.\n",
    "        test1 = np.random.choice(28,5,replace=False)\n",
    "        test2 = 29 + np.random.choice(35,7,replace=False)\n",
    "    \n",
    "    # On crée X_test et X_train\n",
    "    if ((i%64 in test1) or (i%64 in test2)):\n",
    "        X_test.append(X_new[i])\n",
    "        ytest.append(y_new[i])\n",
    "        indices_test.append(i)\n",
    "    else:\n",
    "        X_train.append(X_new[i])\n",
    "        ytrain.append(y_new[i])\n",
    "        indices_train.append(i)"
   ]
  },
  {
   "cell_type": "markdown",
   "metadata": {
    "collapsed": true
   },
   "source": [
    "## Manipulation des matrices"
   ]
  },
  {
   "cell_type": "markdown",
   "metadata": {},
   "source": [
    "On déroule chaque image en un vecteur puis on les concatène."
   ]
  },
  {
   "cell_type": "code",
   "execution_count": 135,
   "metadata": {
    "collapsed": false
   },
   "outputs": [],
   "source": [
    "X_toconcat_train = [np.reshape(e,(X_train[0].shape[0]*X_train[0].shape[1],1)) for e in X_train]\n",
    "X_toconcat_test = [np.reshape(e,(X_train[0].shape[0]*X_train[0].shape[1],1)) for e in X_test]\n",
    "\n",
    "# Puis concaténation pour avoir une matrice unique\n",
    "Xtrain = np.concatenate(X_toconcat_train,axis=1) # Liste des samples du train, concaténés en colonne.\n",
    "Xtest = np.concatenate(X_toconcat_test,axis=1) # Liste des samples du test, concaténés en colonne."
   ]
  },
  {
   "cell_type": "markdown",
   "metadata": {},
   "source": [
    "## Réduction de dimension"
   ]
  },
  {
   "cell_type": "markdown",
   "metadata": {},
   "source": [
    "La réduction de dimensions peut déjà être inclue dans le chargement des images si l'on fait juste de la réduction de dimension basique. Mais on peut également choisir une méthode plus évoluée !\n",
    "\n",
    "_ Ne pas oublier de renseigner la variable **size_features** plus haut _"
   ]
  },
  {
   "cell_type": "markdown",
   "metadata": {},
   "source": [
    "Pour observer le détail des fonctions, voir le fichier **features_reduction.py**"
   ]
  },
  {
   "cell_type": "code",
   "execution_count": 10,
   "metadata": {
    "collapsed": true
   },
   "outputs": [],
   "source": [
    "from features_reduction import *"
   ]
  },
  {
   "cell_type": "markdown",
   "metadata": {},
   "source": [
    "Normalisation"
   ]
  },
  {
   "cell_type": "code",
   "execution_count": 137,
   "metadata": {
    "collapsed": false
   },
   "outputs": [],
   "source": [
    "from sklearn.preprocessing import StandardScaler\n",
    "ss = StandardScaler()\n",
    "ss.fit(Xtrain)\n",
    "Xtrain = ss.transform(Xtrain)"
   ]
  },
  {
   "cell_type": "code",
   "execution_count": 138,
   "metadata": {
    "collapsed": false,
    "scrolled": true
   },
   "outputs": [],
   "source": [
    "if (mode_reduc_features == 'eigenfaces'):\n",
    "    Xtrain, Xtest = eigenfaces(Xtrain.T,Xtest.T,n_components=n_components)\n",
    "    Xtrain, Xtest = Xtrain.T, Xtest.T\n",
    "elif (mode_reduc_features == 'fisherfaces'):\n",
    "    Xtrain, Xtest = fisherfaces(Xtrain.T,ytrain,Xtest.T,n_components=n_components)\n",
    "    Xtrain, Xtest = Xtrain.T, Xtest.T\n",
    "elif (mode_reduc_features == 'randomfaces'):\n",
    "    Xtrain, Xtest = randomfaces(Xtrain.T, Xtest.T, n_components=n_components)\n",
    "    Xtrain, Xtest = Xtrain.T, Xtest.T\n",
    "    \n",
    "# Note : on n'oublie pas de transposer pour pouvoir utiliser les fonctions de features_reduction"
   ]
  },
  {
   "cell_type": "code",
   "execution_count": 139,
   "metadata": {
    "collapsed": false
   },
   "outputs": [
    {
     "name": "stdout",
     "output_type": "stream",
     "text": [
      "('Taille du nouveau dataset', (120, 456))\n"
     ]
    }
   ],
   "source": [
    "print('Taille du nouveau dataset',Xtest.shape)"
   ]
  },
  {
   "cell_type": "markdown",
   "metadata": {},
   "source": [
    "On a bien la bonne taille !"
   ]
  },
  {
   "cell_type": "code",
   "execution_count": 154,
   "metadata": {
    "collapsed": false
   },
   "outputs": [
    {
     "data": {
      "text/plain": [
       "array([-0.56844251,  0.31708254,  0.925881  ,  1.34097087,  1.977442  ,\n",
       "        1.42398884,  1.81140605,  2.03278731,  1.11958961,  0.98122632,\n",
       "        0.06802862, -0.73447846, -1.89673008,  0.15104659,  0.37242785,\n",
       "        1.09191695,  1.53467947,  1.59002479,  1.14726227,  0.78751772,\n",
       "        1.23028024, -0.62378782, -1.56465819, -1.86905742, -0.34706125,\n",
       "       -0.43007922, -0.43007922, -1.34327692, -1.59233084, -0.29171593,\n",
       "        0.67682709, -1.64767616, -0.87284174, -0.1810253 , -1.53698553,\n",
       "       -0.78982377,  0.67682709, -0.40240656, -0.20869796,  0.23406456,\n",
       "        0.40010051, -0.78982377, -0.07033467, -0.51309719, -0.31938859,\n",
       "       -0.23637062, -0.73447846, -0.78982377,  0.75984506,  1.00889898,\n",
       "        1.67304276,  1.56235213, -0.34706125, -0.01498936, -0.04266201,\n",
       "       -1.50931287,  0.67682709,  1.86675137,  1.34097087,  0.84286303,\n",
       "       -0.12567999,  0.5384638 ,  1.23028024,  2.00511465, -0.12567999,\n",
       "       -0.62378782, -0.20869796, -0.20869796,  0.70449974,  1.6453701 ,\n",
       "        0.87053569,  0.17871925, -0.73447846,  0.59380911,  1.2579529 ,\n",
       "        1.83907871,  0.06802862,  0.31708254,  0.59380911, -0.95585972,\n",
       "        0.81519037,  1.94976934,  0.67682709, -0.29171593, -0.65146048,\n",
       "        0.34475519, -0.23637062,  0.17871925, -0.26404328, -0.29171593,\n",
       "        0.15104659,  0.12337393, -0.48542454, -0.54076985,  0.48311848,\n",
       "       -0.37473391, -1.67534882, -0.7068058 , -0.7068058 , -1.4262949 ,\n",
       "       -1.17724098, -0.09800733, -0.01498936, -0.37473391, -1.89673008,\n",
       "        0.26173722, -0.20869796, -1.03887769, -2.25647463, -1.06655035,\n",
       "       -1.09422301, -0.23637062, -0.23637062, -0.81749643, -0.56844251,\n",
       "       -0.1810253 , -0.48542454, -0.40240656, -0.87284174, -2.09043868])"
      ]
     },
     "execution_count": 154,
     "metadata": {},
     "output_type": "execute_result"
    }
   ],
   "source": [
    "Xtrain[:,5]"
   ]
  },
  {
   "cell_type": "code",
   "execution_count": 141,
   "metadata": {
    "collapsed": false
   },
   "outputs": [],
   "source": [
    "tmp = np.reshape(Xtrain[:,4],(12,10))"
   ]
  },
  {
   "cell_type": "markdown",
   "metadata": {},
   "source": [
    "#### GROS TRUC SALE"
   ]
  },
  {
   "cell_type": "code",
   "execution_count": 11,
   "metadata": {
    "collapsed": false
   },
   "outputs": [
    {
     "name": "stdout",
     "output_type": "stream",
     "text": [
      "1\n",
      "2\n",
      "3\n",
      "4\n",
      "5\n",
      "6\n",
      "7\n",
      "8\n",
      "9\n",
      "10\n",
      "11\n",
      "12\n",
      "13\n",
      "14\n",
      "15\n",
      "16\n",
      "17\n",
      "18\n",
      "19\n",
      "20\n",
      "21\n",
      "22\n",
      "23\n",
      "24\n",
      "25\n",
      "26\n",
      "27\n",
      "28\n",
      "29\n",
      "30\n",
      "31\n",
      "32\n",
      "33\n",
      "34\n",
      "35\n",
      "36\n",
      "37\n",
      "38\n"
     ]
    }
   ],
   "source": [
    "########### Chargement des images originales\n",
    "X_original,y_original = read_images('data/CroppedYale',sz=None)"
   ]
  },
  {
   "cell_type": "code",
   "execution_count": 12,
   "metadata": {
    "collapsed": false
   },
   "outputs": [],
   "source": [
    "########### Retraitement du dataset\n",
    "X_new = []\n",
    "y_new = []\n",
    "for i in range(len(X_original)):\n",
    "    X_new.append(X_original[i])\n",
    "    y_new.append(y_original[i])"
   ]
  },
  {
   "cell_type": "code",
   "execution_count": 13,
   "metadata": {
    "collapsed": true
   },
   "outputs": [],
   "source": [
    "########### Séparation du dataset en trainset et testset\n",
    "X_train, X_test = [], []\n",
    "ytrain, ytest = [], []\n",
    "indices_train, indices_test = [], []\n",
    "\n",
    "\n",
    "for i in range(len(X_new)):\n",
    "    if i%64==0:\n",
    "        # On compute les indices des éléments à placer dans le test, ils sont différents pour chaque image.\n",
    "        test1 = np.random.choice(28,5,replace=False)\n",
    "        test2 = 29 + np.random.choice(35,7,replace=False)\n",
    "    \n",
    "    # On crée X_test et X_train\n",
    "    if ((i%64 in test1) or (i%64 in test2)):\n",
    "        X_test.append(X_new[i])\n",
    "        ytest.append(y_new[i])\n",
    "        indices_test.append(i)\n",
    "    else:\n",
    "        X_train.append(X_new[i])\n",
    "        ytrain.append(y_new[i])\n",
    "        indices_train.append(i)"
   ]
  },
  {
   "cell_type": "code",
   "execution_count": 14,
   "metadata": {
    "collapsed": false
   },
   "outputs": [],
   "source": [
    "########### Ajout du bandeau sur les yeux // Reduction de taille\n",
    "X_test_bf = []\n",
    "X_train_sz = []\n",
    "for i in range(len(X_test)):\n",
    "    tmp = black_frame(X_test[i],10,153,39,60)\n",
    "    im = Image.fromarray(tmp)\n",
    "    im = im.resize([12,10], Image.NEAREST)     \n",
    "    X_test_bf.append(np.asarray(im, dtype=np.uint8))\n",
    "        \n",
    "        \n",
    "for i in range(len(X_train)):\n",
    "    im = Image.fromarray(X_train[i])\n",
    "    im = im.resize([12,10], Image.NEAREST)     \n",
    "    X_train_sz.append(np.asarray(im, dtype=np.uint8))\n",
    "        \n",
    "X_train = X_train_sz"
   ]
  },
  {
   "cell_type": "code",
   "execution_count": 15,
   "metadata": {
    "collapsed": false
   },
   "outputs": [
    {
     "data": {
      "text/plain": [
       "array([[ 90,  65,  98, 130, 143, 140, 146, 139, 130, 102,  63,  46],\n",
       "       [ 48, 106, 151,  77,  79, 161, 166, 123,  87, 121, 128,  62],\n",
       "       [ 96, 134,  90,  86, 171, 149, 151, 131, 113,  48, 119,  99],\n",
       "       [104,   0,   0,   0,   0,   0,   0,   0,   0,   0,   0,  65],\n",
       "       [ 96, 131, 177, 185, 122,  74,  73,  44, 113, 168, 155, 119],\n",
       "       [134, 131, 144, 158,  78, 138, 158,  81,  25, 133, 132, 137],\n",
       "       [129, 156, 156, 118, 142, 126, 108, 119,  75, 154, 145, 114],\n",
       "       [132, 161, 120,  91,  88,  82,  69,  82,  77,  88, 152, 125],\n",
       "       [126, 150, 126, 122,  85,  52,  68,  66,  88, 135, 108, 130],\n",
       "       [142, 160, 146, 139, 119, 141, 135, 113, 105, 124, 127, 134]], dtype=uint8)"
      ]
     },
     "execution_count": 15,
     "metadata": {},
     "output_type": "execute_result"
    },
    {
     "data": {
      "image/png": "[encoded data removed]",
      "text/plain": [
       "<matplotlib.figure.Figure at 0x10df1de10>"
      ]
     },
     "metadata": {},
     "output_type": "display_data"
    }
   ],
   "source": [
    "tmp = black_frame(X_test[12],10,152,39,60)\n",
    "plt.imshow(tmp)\n",
    "im = Image.fromarray(tmp)\n",
    "im = im.resize((12,10), Image.NEAREST)\n",
    "np.asarray(im,dtype=np.uint8)"
   ]
  },
  {
   "cell_type": "code",
   "execution_count": 16,
   "metadata": {
    "collapsed": false
   },
   "outputs": [
    {
     "name": "stderr",
     "output_type": "stream",
     "text": [
      "/Users/admin/anaconda2/lib/python2.7/site-packages/sklearn/utils/validation.py:429: DataConversionWarning: Data with input dtype uint8 was converted to float64 by StandardScaler.\n",
      "  warnings.warn(msg, _DataConversionWarning)\n"
     ]
    }
   ],
   "source": [
    "########### Manipulation des matrices\n",
    "X_toconcat_train = [np.reshape(e,(X_train[0].shape[0]*X_train[0].shape[1],1)) for e in X_train]\n",
    "X_toconcat_test = [np.reshape(e,(X_train[0].shape[0]*X_train[0].shape[1],1)) for e in X_test_bf]\n",
    "\n",
    "# Puis concaténation pour avoir une matrice unique\n",
    "Xtrain = np.concatenate(X_toconcat_train,axis=1) # Liste des samples du train, concaténés en colonne.\n",
    "Xtest = np.concatenate(X_toconcat_test,axis=1) # Liste des samples du test, concaténés en colonne.\n",
    "\n",
    "\n",
    "########### Normalisation\n",
    "from sklearn.preprocessing import StandardScaler\n",
    "ss = StandardScaler()\n",
    "Xtrain = ss.fit_transform(Xtrain)\n",
    "Xtest = ss.fit_transform(Xtest)"
   ]
  },
  {
   "cell_type": "code",
   "execution_count": 17,
   "metadata": {
    "collapsed": false
   },
   "outputs": [
    {
     "ename": "NameError",
     "evalue": "name 'Lasso' is not defined",
     "output_type": "error",
     "traceback": [
      "\u001b[0;31m---------------------------------------------------------------------------\u001b[0m",
      "\u001b[0;31mNameError\u001b[0m                                 Traceback (most recent call last)",
      "\u001b[0;32m<ipython-input-17-bd1c7a557e6e>\u001b[0m in \u001b[0;36m<module>\u001b[0;34m()\u001b[0m\n\u001b[1;32m      1\u001b[0m \u001b[0;31m########### Algorithme\u001b[0m\u001b[0;34m\u001b[0m\u001b[0;34m\u001b[0m\u001b[0m\n\u001b[0;32m----> 2\u001b[0;31m \u001b[0mclf\u001b[0m \u001b[0;34m=\u001b[0m \u001b[0mLasso\u001b[0m\u001b[0;34m(\u001b[0m\u001b[0malpha\u001b[0m\u001b[0;34m=\u001b[0m\u001b[0;36m3.56777699893\u001b[0m\u001b[0;34m)\u001b[0m \u001b[0;31m#on prend l'alpha courant\u001b[0m\u001b[0;34m\u001b[0m\u001b[0m\n\u001b[0m\u001b[1;32m      3\u001b[0m \u001b[0mclf\u001b[0m\u001b[0;34m.\u001b[0m\u001b[0mfit\u001b[0m\u001b[0;34m(\u001b[0m\u001b[0mXtrain\u001b[0m\u001b[0;34m,\u001b[0m\u001b[0mXtest\u001b[0m\u001b[0;34m[\u001b[0m\u001b[0;34m:\u001b[0m\u001b[0;34m,\u001b[0m\u001b[0;36m410\u001b[0m\u001b[0;34m]\u001b[0m\u001b[0;34m)\u001b[0m\u001b[0;34m\u001b[0m\u001b[0m\n\u001b[1;32m      4\u001b[0m \u001b[0mx\u001b[0m \u001b[0;34m=\u001b[0m \u001b[0mclf\u001b[0m\u001b[0;34m.\u001b[0m\u001b[0mcoef_\u001b[0m\u001b[0;34m\u001b[0m\u001b[0m\n",
      "\u001b[0;31mNameError\u001b[0m: name 'Lasso' is not defined"
     ]
    }
   ],
   "source": [
    "########### Algorithme\n",
    "clf = Lasso(alpha=3.56777699893) #on prend l'alpha courant\n",
    "clf.fit(Xtrain,Xtest[:,410])\n",
    "x = clf.coef_"
   ]
  },
  {
   "cell_type": "code",
   "execution_count": 17,
   "metadata": {
    "collapsed": false
   },
   "outputs": [
    {
     "name": "stdout",
     "output_type": "stream",
     "text": [
      "87.2807017544\n"
     ]
    }
   ],
   "source": [
    "from sklearn.linear_model import Lasso\n",
    "\n",
    "clf = Lasso(alpha=0.02) #on prend l'alpha courant\n",
    "preds = np.zeros(Xtest.shape[1])\n",
    "real_classes = np.array(ytest)\n",
    "\n",
    "for i in range(Xtest.shape[1]):\n",
    "    clf.fit(Xtrain,Xtest[:,i])\n",
    "    x = clf.coef_\n",
    "    preds[i] = np.argmin(residu(Xtest[:,i],Xtrain,x,ytrain))\n",
    "\n",
    "print(100.0*np.sum(preds == real_classes)/len(ytest))"
   ]
  },
  {
   "cell_type": "code",
   "execution_count": 375,
   "metadata": {
    "collapsed": false
   },
   "outputs": [
    {
     "data": {
      "text/plain": [
       "array([ 36.,  36.,  23.,  23.,  16.,  16.,  14.,  19.,  22.,  23.,  22.,\n",
       "         5.,   2.,  36.,  36.,  23.,  16.,  23.,  15.,  30.,  22.,  22.,\n",
       "         2.,   2.,  33.,  37.,  36.,  20.,  37.,   2.,  16.,  22.,  23.,\n",
       "        23.,   7.,  37.,  37.,  23.,  36.,  23.,  23.,  16.,  22.,  22.,\n",
       "        37.,  23.,   0.,  10.,  22.,  22.,  22.,  33.,  20.,  32.,  22.,\n",
       "        22.,  22.,  22.,  22.,  22.,  24.,   2.,  23.,  22.,  16.,  16.,\n",
       "        37.,  23.,  22.,  22.,  22.,   8.,   8.,  24.,  16.,  16.,  16.,\n",
       "        23.,  37.,  22.,   2.,  14.,  22.,  18.,  22.,   3.,  20.,  23.,\n",
       "        20.,  16.,  20.,   4.,  31.,  23.,  24.,  24.,  23.,   3.,  23.,\n",
       "         8.,   8.,  14.,  10.,  24.,  24.,  24.,  23.,   8.,  22.,  24.,\n",
       "        36.,  36.,  16.,  16.,  23.,  23.,  22.,  15.,  23.,  35.,  10.,\n",
       "        36.,  21.,  16.,  34.,  19.,   1.,  24.,  23.,  10.,  23.,  23.,\n",
       "        20.,   2.,   4.,  22.,  16.,  23.,  16.,  33.,  22.,  25.,  23.,\n",
       "        23.,   3.,  21.,   8.,  11.,  16.,  16.,  31.,  23.,  33.,  23.,\n",
       "        33.,   3.,  24.,  20.,  23.,  23.,  16.,  16.,   4.,   4.,  16.,\n",
       "         0.,  23.,  24.,   3.,   3.,  36.,  37.,  23.,  23.,  14.,   3.,\n",
       "        37.,  22.,  22.,  35.,  20.,  12.,  20.,  22.,  16.,  22.,  22.,\n",
       "        16.,  23.,  23.,  23.,  23.,  22.,  22.,  20.,  22.,  16.,  16.,\n",
       "         4.,  22.,  18.,  23.,  23.,   8.,   8.,  22.,  23.,  16.,  16.,\n",
       "        22.,  22.,  14.,  10.,  22.,   8.,  22.,  30.,  23.,  22.,  16.,\n",
       "        16.,  23.,  23.,  23.,  24.,  23.,  23.,  23.,  37.,  36.,   7.,\n",
       "        36.,  23.,  36.,   8.,  10.,  22.,   8.,  19.,  22.,  26.,  26.,\n",
       "        22.,  23.,  23.,  23.,  20.,  23.,  20.,  23.,  23.,  23.,  24.,\n",
       "        24.,  24.,  16.,  16.,   7.,   8.,  23.,  22.,  23.,  32.,  23.,\n",
       "        22.,  22.,  23.,  23.,  23.,  23.,  23.,  23.,  23.,  23.,  23.,\n",
       "        23.,  26.,  23.,  16.,  16.,  11.,  30.,  18.,  22.,  22.,  23.,\n",
       "        23.,  23.,  22.,  22.,  37.,  23.,  23.,  23.,  37.,  23.,  23.,\n",
       "        23.,  23.,   0.,  24.,   8.,  22.,  22.,  23.,  23.,  19.,  19.,\n",
       "        19.,   3.,  37.,  28.,  22.,  22.,  22.,  23.,  22.,  36.,  24.,\n",
       "        20.,  23.,  20.,  33.,  25.,   7.,  22.,  22.,  16.,  16.,  12.,\n",
       "        22.,  33.,  23.,  24.,  23.,   8.,  22.,  24.,  22.,  22.,  22.,\n",
       "        23.,  14.,  14.,  10.,  22.,  22.,  22.,  24.,  31.,  23.,  23.,\n",
       "        16.,  24.,  23.,  22.,  24.,  22.,  22.,  15.,  20.,  23.,  22.,\n",
       "        22.,  23.,  30.,  22.,  22.,  33.,  30.,   8.,   8.,  36.,  22.,\n",
       "        22.,  36.,  23.,  36.,   4.,  33.,  22.,  23.,   0.,  23.,  24.,\n",
       "        24.,   8.,  22.,  22.,  23.,  23.,  23.,  23.,  31.,  23.,  22.,\n",
       "        26.,  22.,  22.,  22.,  16.,  30.,  12.,  23.,   8.,   8.,  23.,\n",
       "        23.,  21.,  22.,  22.,   2.,  23.,  24.,  22.,  22.,  24.,  12.,\n",
       "        23.,  23.,  20.,  22.,  16.,  22.,  23.,   6.,  19.,  19.,  22.,\n",
       "         6.,  19.,   0.,  36.,  21.,  22.,  36.,  16.,  32.,  23.,  23.,\n",
       "        23.,  23.,   8.,   8.,  10.,  24.,  36.,  36.,  23.,  35.,  36.,\n",
       "        36.,  36.,  36.,  24.,  24.])"
      ]
     },
     "execution_count": 375,
     "metadata": {},
     "output_type": "execute_result"
    }
   ],
   "source": [
    "preds"
   ]
  },
  {
   "cell_type": "markdown",
   "metadata": {},
   "source": [
    "# Implémentation de l'algorithme 1 "
   ]
  },
  {
   "cell_type": "code",
   "execution_count": 18,
   "metadata": {
    "collapsed": false
   },
   "outputs": [],
   "source": [
    "from sklearn.linear_model import Lasso"
   ]
  },
  {
   "cell_type": "markdown",
   "metadata": {},
   "source": [
    "On voit dans la littérature que cela revient à traiter le problème Lasso."
   ]
  },
  {
   "cell_type": "markdown",
   "metadata": {
    "collapsed": true
   },
   "source": [
    "D'abord on crée un vecteur d'$\\alpha_i$ à tester avec Lasso.\n",
    "\n",
    "Puisqu'on utilise la fonction Lasso il est nécessaire d'adapter nos $\\alpha_i$ à la dimension de $y$."
   ]
  },
  {
   "cell_type": "code",
   "execution_count": 22,
   "metadata": {
    "collapsed": true
   },
   "outputs": [],
   "source": [
    "alpha_vec = np.logspace(2,4,20)\n",
    "alpha_vec = alpha_vec/(Xtest.shape[0])"
   ]
  },
  {
   "cell_type": "markdown",
   "metadata": {},
   "source": [
    "Puis on utilise Lasso pour trouver la solution à notre problème."
   ]
  },
  {
   "cell_type": "code",
   "execution_count": 36,
   "metadata": {
    "collapsed": false
   },
   "outputs": [],
   "source": [
    "#for i, alpha in enumerate(alpha_vec):\n",
    "\n",
    "testval = 410 # Id : élément du test set à évaluer grâce à notre algorithme.\n",
    "\n",
    "clf = Lasso(alpha=3) #on prend l'alpha courant\n",
    "clf.fit(Xtrain,Xtest[:,testval])\n",
    "x = clf.coef_"
   ]
  },
  {
   "cell_type": "markdown",
   "metadata": {},
   "source": [
    "** Affichage des résultats **"
   ]
  },
  {
   "cell_type": "code",
   "execution_count": 37,
   "metadata": {
    "collapsed": false
   },
   "outputs": [
    {
     "name": "stdout",
     "output_type": "stream",
     "text": [
      "Classe réelle:  34\n",
      "Classe prédite:  34\n",
      "Rejection:  0.382462692688\n"
     ]
    }
   ],
   "source": [
    "print \"Classe réelle: \", ytest[testval]\n",
    "print \"Classe prédite: \",np.argmin(residu(Xtest[:,testval],Xtrain,x,ytrain))\n",
    "print \"Rejection: \", SCI(x,ytrain)"
   ]
  },
  {
   "cell_type": "code",
   "execution_count": 38,
   "metadata": {
    "collapsed": false
   },
   "outputs": [
    {
     "data": {
      "text/plain": [
       "<matplotlib.text.Text at 0x124232ad0>"
      ]
     },
     "execution_count": 38,
     "metadata": {},
     "output_type": "execute_result"
    },
    {
     "data": {
      "image/png": "[encoded data removed]",
      "text/plain": [
       "<matplotlib.figure.Figure at 0x11c2efe90>"
      ]
     },
     "metadata": {},
     "output_type": "display_data"
    }
   ],
   "source": [
    "plt.figure()\n",
    "plt.stem(x)\n",
    "plt.title('Classe reelle: ' + str(ytest[testval]))"
   ]
  },
  {
   "cell_type": "markdown",
   "metadata": {},
   "source": [
    "Avantage : meilleure interprétabilité des résultats : on sait où il y a des erreurs et pourquoi il y a des erreurs."
   ]
  },
  {
   "cell_type": "markdown",
   "metadata": {},
   "source": [
    "On s'intéresse également aux résidus"
   ]
  },
  {
   "cell_type": "code",
   "execution_count": 39,
   "metadata": {
    "collapsed": false
   },
   "outputs": [
    {
     "data": {
      "text/plain": [
       "<matplotlib.text.Text at 0x128a60a50>"
      ]
     },
     "execution_count": 39,
     "metadata": {},
     "output_type": "execute_result"
    },
    {
     "data": {
      "image/png": "[encoded data removed]",
      "text/plain": [
       "<matplotlib.figure.Figure at 0x12895be10>"
      ]
     },
     "metadata": {},
     "output_type": "display_data"
    }
   ],
   "source": [
    "plt.figure()\n",
    "plt.clf()\n",
    "plt.bar(range(38),residu(Xtest[:,testval],Xtrain,x,ytrain))\n",
    "plt.title('Coeff rejection ' + str(np.round(SCI(x,ytrain),2)))"
   ]
  },
  {
   "cell_type": "markdown",
   "metadata": {
    "collapsed": true
   },
   "source": [
    "### Reconstruction de l'image"
   ]
  },
  {
   "cell_type": "code",
   "execution_count": null,
   "metadata": {
    "collapsed": true
   },
   "outputs": [],
   "source": []
  },
  {
   "cell_type": "code",
   "execution_count": null,
   "metadata": {
    "collapsed": true
   },
   "outputs": [],
   "source": []
  },
  {
   "cell_type": "code",
   "execution_count": null,
   "metadata": {
    "collapsed": true
   },
   "outputs": [],
   "source": []
  },
  {
   "cell_type": "code",
   "execution_count": null,
   "metadata": {
    "collapsed": true
   },
   "outputs": [],
   "source": []
  },
  {
   "cell_type": "markdown",
   "metadata": {},
   "source": [
    "### Identification du meilleur lambda pour la régularisation, performance sans rejection"
   ]
  },
  {
   "cell_type": "markdown",
   "metadata": {},
   "source": [
    "On va regarder la précision de notre algorithme pour différents lambda.\n",
    "\n",
    "La métrique sera le _pourcentage de bonne classification_."
   ]
  },
  {
   "cell_type": "code",
   "execution_count": null,
   "metadata": {
    "collapsed": false
   },
   "outputs": [],
   "source": [
    "# Rappel : \n",
    "# * y : Elément à tester (est une colonne de Xtest)\n",
    "# * Xtrain : Matrice A des exemples d'entrainement\n",
    "# * x : coefficients issus de la minimisation LASSO\n",
    "# * ytrain : classe des exemples d'entrainement\n",
    "\n",
    "preds = np.zeros((len(alpha_vec),Xtest.shape[1]))\n",
    "rejections = np.zeros((len(alpha_vec),Xtest.shape[1]))\n",
    "\n",
    "for i, alpha in enumerate(alpha_vec):\n",
    "    t = time.time()\n",
    "    print \"Coefficient de régularisation: \", alpha\n",
    "    print \"Boucle #\",i+1,\"/\",len(alpha_vec)\n",
    "    clf = Lasso(alpha=alpha) # on crée un modèle avec l'alpha courant\n",
    "    for j in range(Xtest.shape[1]):\n",
    "        # Pour chaque exemple à tester on génère les coefficients et on prend la meilleure prédiction\n",
    "        y = Xtest[:,j]\n",
    "        clf.fit(Xtrain,y)\n",
    "        x = clf.coef_\n",
    "        \n",
    "        # On fait la prédiction\n",
    "        preds[i,j] = np.argmin(residu(y,Xtrain,x,ytrain)) \n",
    "        rejections[i,j] = SCI(x,ytrain)\n",
    "        \n",
    "        # Affichage d'un message pour suivre l'avancement de l'algorithme\n",
    "        \n",
    "        if (j%50 == 0):\n",
    "            print j, \"exemples traités en\",time.time() - t ,\"s\"\n",
    "        \n",
    "    print \"Temps écoulé pour la boucle : \", time.time() - t"
   ]
  },
  {
   "cell_type": "markdown",
   "metadata": {},
   "source": [
    "On remarque que l'entrainement est spécialement long puisqu'on doit réentrainer un classifieur pour chaque exemple !\n",
    "\n",
    "Mais c'est parallélisable"
   ]
  },
  {
   "cell_type": "markdown",
   "metadata": {},
   "source": [
    "On calcule maintenant la précision pour chaque lambda"
   ]
  },
  {
   "cell_type": "code",
   "execution_count": null,
   "metadata": {
    "collapsed": false
   },
   "outputs": [],
   "source": [
    "# Définition des classes réelles\n",
    "real_classes = np.reshape(ytest*len(alpha_vec),(len(alpha_vec),len(ytest)))\n",
    "\n",
    "# Evaluation de la précision\n",
    "\n",
    "precision = 100.0*np.sum(preds == real_classes,axis=1)/len(ytest)"
   ]
  },
  {
   "cell_type": "markdown",
   "metadata": {},
   "source": [
    "**Affichage des résultats**"
   ]
  },
  {
   "cell_type": "code",
   "execution_count": null,
   "metadata": {
    "collapsed": false
   },
   "outputs": [],
   "source": [
    "plt.figure()\n",
    "plt.clf()\n",
    "plt.plot(alpha_vec,precision)\n",
    "plt.title('Evolution de la precision en fonction de $\\lambda$')\n",
    "plt.axis([0, 20, 85,95])"
   ]
  },
  {
   "cell_type": "markdown",
   "metadata": {},
   "source": [
    "Détermination du coefficient optimal de régularisation"
   ]
  },
  {
   "cell_type": "code",
   "execution_count": null,
   "metadata": {
    "collapsed": false
   },
   "outputs": [],
   "source": [
    "i_opt = np.argmax(precision)\n",
    "alpha_opt = alpha_vec[i_opt]"
   ]
  },
  {
   "cell_type": "code",
   "execution_count": null,
   "metadata": {
    "collapsed": false
   },
   "outputs": [],
   "source": [
    "# Coefficient optimal :  3.56777699893\n",
    "print \"Coefficient optimal : \", alpha_opt"
   ]
  },
  {
   "cell_type": "markdown",
   "metadata": {},
   "source": [
    "#### Etude des coefficients de rejection"
   ]
  },
  {
   "cell_type": "code",
   "execution_count": null,
   "metadata": {
    "collapsed": false
   },
   "outputs": [],
   "source": [
    "wrong_preds = (rejections*(preds != real_classes))[i_opt,:]"
   ]
  },
  {
   "cell_type": "markdown",
   "metadata": {},
   "source": [
    "Affichage des mauvaises prédictions"
   ]
  },
  {
   "cell_type": "code",
   "execution_count": null,
   "metadata": {
    "collapsed": false
   },
   "outputs": [],
   "source": [
    "plt.figure()\n",
    "plt.clf()\n",
    "plt.stem(wrong_preds)\n",
    "plt.title('SCI for wrong predictions using best $\\lambda$')"
   ]
  },
  {
   "cell_type": "markdown",
   "metadata": {},
   "source": [
    "On peut voir que la majorité des erreurs se trouve sur les derniers exemples, avec très peu d'erreur sur les premiers.\n",
    "\n",
    "On a notamment constamment tort pour les 12 derniers exemples, appartenant tous à la même (la dernière) classe.\n",
    "On se rend également compte qu'il ne s'agit pas d'une confusion avec une seule personne : les prédictions pour la dernière personne sont les suivantes : \n",
    "    [ 12.,  14.,  36.,  14.,  27.,   9., 27.,  17.,  22.,  17.,   8.,  19.]."
   ]
  },
  {
   "cell_type": "code",
   "execution_count": null,
   "metadata": {
    "collapsed": false
   },
   "outputs": [],
   "source": [
    "wrong_preds[-50:]\n",
    "preds[i_opt,-50:]"
   ]
  },
  {
   "cell_type": "markdown",
   "metadata": {},
   "source": [
    "** Reclassement des coefficients de rejection par classe**\n",
    "\n",
    "Rappel : 12 exemples par classes dans le test, 38 classes."
   ]
  },
  {
   "cell_type": "code",
   "execution_count": null,
   "metadata": {
    "collapsed": false
   },
   "outputs": [],
   "source": [
    "# Changer les coefficients dans zeros si changement de base.\n",
    "\n",
    "rejec_by_class = np.zeros((12,38))\n",
    "\n",
    "j = 0\n",
    "for i in range(Xtest.shape[1]):\n",
    "    if ((i%12 == 0) & (i != 0)):\n",
    "        j = j+1\n",
    "    rejec_by_class[i%12,j] = rejections[i_opt,i]"
   ]
  },
  {
   "cell_type": "code",
   "execution_count": null,
   "metadata": {
    "collapsed": false
   },
   "outputs": [],
   "source": [
    "pd.DataFrame(rejec_by_class).describe()"
   ]
  },
  {
   "cell_type": "markdown",
   "metadata": {},
   "source": [
    "### Visualisation des résidus pour les exemples où l'algorithme se trompe"
   ]
  },
  {
   "cell_type": "markdown",
   "metadata": {},
   "source": [
    "Choix de l'élément mal classifié #j à étudier"
   ]
  },
  {
   "cell_type": "code",
   "execution_count": null,
   "metadata": {
    "collapsed": true
   },
   "outputs": [],
   "source": [
    "j = 2"
   ]
  },
  {
   "cell_type": "markdown",
   "metadata": {},
   "source": [
    "Obtention des résidus"
   ]
  },
  {
   "cell_type": "code",
   "execution_count": null,
   "metadata": {
    "collapsed": false
   },
   "outputs": [],
   "source": [
    "id_wrong_preds = np.where(preds[i_opt,:] != real_classes[i_opt,:])[0]\n",
    "#for i in id_wrong_preds:\n",
    "#    print find_class(i)\n",
    "\n",
    "y = Xtest[:,id_wrong_preds[j]]\n",
    "clf.fit(Xtrain,y)\n",
    "x = clf.coef_\n",
    "\n",
    "# On fait la prédiction\n",
    "residus_cur = residu(y,Xtrain,x,ytrain)\n",
    "rejections_cur = SCI(x,ytrain)"
   ]
  },
  {
   "cell_type": "markdown",
   "metadata": {},
   "source": [
    "Affichage des résidus"
   ]
  },
  {
   "cell_type": "code",
   "execution_count": null,
   "metadata": {
    "collapsed": false
   },
   "outputs": [],
   "source": [
    "plt.figure()\n",
    "plt.clf()\n",
    "plt.bar(range(38),residus_cur)\n",
    "plt.title('Real class : ' + str(find_class(id_wrong_preds[j])) + ', coeff rejection ' + str(np.round(rejections_cur,2)))"
   ]
  },
  {
   "cell_type": "markdown",
   "metadata": {},
   "source": [
    "On peut observer les différents résidus pour les mauvais éléments en changeant la valeur de j. On voit que souvent (cas j = 2 par exemple), la vraie classe n'était pas très loin !"
   ]
  },
  {
   "cell_type": "markdown",
   "metadata": {},
   "source": [
    "** Visualisation des images mal classifiées **"
   ]
  },
  {
   "cell_type": "code",
   "execution_count": null,
   "metadata": {
    "collapsed": true
   },
   "outputs": [],
   "source": []
  },
  {
   "cell_type": "code",
   "execution_count": null,
   "metadata": {
    "collapsed": true
   },
   "outputs": [],
   "source": []
  },
  {
   "cell_type": "code",
   "execution_count": null,
   "metadata": {
    "collapsed": true
   },
   "outputs": [],
   "source": []
  },
  {
   "cell_type": "markdown",
   "metadata": {},
   "source": [
    "##### Partie utilisée pour sauvegarder les résultats des simulations"
   ]
  },
  {
   "cell_type": "markdown",
   "metadata": {
    "collapsed": true
   },
   "source": [
    "import pandas as pd"
   ]
  },
  {
   "cell_type": "markdown",
   "metadata": {
    "collapsed": true
   },
   "source": [
    "df_preds = pd.DataFrame(data=np.asarray(preds))\n",
    "df_rejec = pd.DataFrame(data=np.asarray(rejections))"
   ]
  },
  {
   "cell_type": "markdown",
   "metadata": {},
   "source": [
    "df_preds.to_csv('csv_saved/preds0.csv')\n",
    "df_rejec.to_csv('csv_saved/rejec0.csv')"
   ]
  },
  {
   "cell_type": "code",
   "execution_count": null,
   "metadata": {
    "collapsed": true
   },
   "outputs": [],
   "source": []
  }
 ],
 "metadata": {
  "anaconda-cloud": {},
  "kernelspec": {
   "display_name": "Python [default]",
   "language": "python",
   "name": "python2"
  },
  "language_info": {
   "codemirror_mode": {
    "name": "ipython",
    "version": 2
   },
   "file_extension": ".py",
   "mimetype": "text/x-python",
   "name": "python",
   "nbconvert_exporter": "python",
   "pygments_lexer": "ipython2",
   "version": "2.7.12"
  }
 },
 "nbformat": 4,
 "nbformat_minor": 1
}
